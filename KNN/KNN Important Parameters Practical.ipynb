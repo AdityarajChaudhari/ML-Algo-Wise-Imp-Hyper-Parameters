{
 "cells": [
  {
   "cell_type": "code",
   "execution_count": 1,
   "metadata": {},
   "outputs": [],
   "source": [
    "import pandas as pd\n",
    "import numpy as np\n",
    "import matplotlib.pyplot as plt\n",
    "import seaborn as sbn"
   ]
  },
  {
   "cell_type": "code",
   "execution_count": 2,
   "metadata": {},
   "outputs": [
    {
     "data": {
      "text/html": [
       "<div>\n",
       "<style scoped>\n",
       "    .dataframe tbody tr th:only-of-type {\n",
       "        vertical-align: middle;\n",
       "    }\n",
       "\n",
       "    .dataframe tbody tr th {\n",
       "        vertical-align: top;\n",
       "    }\n",
       "\n",
       "    .dataframe thead th {\n",
       "        text-align: right;\n",
       "    }\n",
       "</style>\n",
       "<table border=\"1\" class=\"dataframe\">\n",
       "  <thead>\n",
       "    <tr style=\"text-align: right;\">\n",
       "      <th></th>\n",
       "      <th>RI</th>\n",
       "      <th>Na</th>\n",
       "      <th>Mg</th>\n",
       "      <th>Al</th>\n",
       "      <th>Si</th>\n",
       "      <th>K</th>\n",
       "      <th>Ca</th>\n",
       "      <th>Ba</th>\n",
       "      <th>Fe</th>\n",
       "      <th>Type</th>\n",
       "    </tr>\n",
       "  </thead>\n",
       "  <tbody>\n",
       "    <tr>\n",
       "      <th>0</th>\n",
       "      <td>1.52101</td>\n",
       "      <td>13.64</td>\n",
       "      <td>4.49</td>\n",
       "      <td>1.10</td>\n",
       "      <td>71.78</td>\n",
       "      <td>0.06</td>\n",
       "      <td>8.75</td>\n",
       "      <td>0.0</td>\n",
       "      <td>0.0</td>\n",
       "      <td>1</td>\n",
       "    </tr>\n",
       "    <tr>\n",
       "      <th>1</th>\n",
       "      <td>1.51761</td>\n",
       "      <td>13.89</td>\n",
       "      <td>3.60</td>\n",
       "      <td>1.36</td>\n",
       "      <td>72.73</td>\n",
       "      <td>0.48</td>\n",
       "      <td>7.83</td>\n",
       "      <td>0.0</td>\n",
       "      <td>0.0</td>\n",
       "      <td>1</td>\n",
       "    </tr>\n",
       "    <tr>\n",
       "      <th>2</th>\n",
       "      <td>1.51618</td>\n",
       "      <td>13.53</td>\n",
       "      <td>3.55</td>\n",
       "      <td>1.54</td>\n",
       "      <td>72.99</td>\n",
       "      <td>0.39</td>\n",
       "      <td>7.78</td>\n",
       "      <td>0.0</td>\n",
       "      <td>0.0</td>\n",
       "      <td>1</td>\n",
       "    </tr>\n",
       "    <tr>\n",
       "      <th>3</th>\n",
       "      <td>1.51766</td>\n",
       "      <td>13.21</td>\n",
       "      <td>3.69</td>\n",
       "      <td>1.29</td>\n",
       "      <td>72.61</td>\n",
       "      <td>0.57</td>\n",
       "      <td>8.22</td>\n",
       "      <td>0.0</td>\n",
       "      <td>0.0</td>\n",
       "      <td>1</td>\n",
       "    </tr>\n",
       "    <tr>\n",
       "      <th>4</th>\n",
       "      <td>1.51742</td>\n",
       "      <td>13.27</td>\n",
       "      <td>3.62</td>\n",
       "      <td>1.24</td>\n",
       "      <td>73.08</td>\n",
       "      <td>0.55</td>\n",
       "      <td>8.07</td>\n",
       "      <td>0.0</td>\n",
       "      <td>0.0</td>\n",
       "      <td>1</td>\n",
       "    </tr>\n",
       "  </tbody>\n",
       "</table>\n",
       "</div>"
      ],
      "text/plain": [
       "        RI     Na    Mg    Al     Si     K    Ca   Ba   Fe  Type\n",
       "0  1.52101  13.64  4.49  1.10  71.78  0.06  8.75  0.0  0.0     1\n",
       "1  1.51761  13.89  3.60  1.36  72.73  0.48  7.83  0.0  0.0     1\n",
       "2  1.51618  13.53  3.55  1.54  72.99  0.39  7.78  0.0  0.0     1\n",
       "3  1.51766  13.21  3.69  1.29  72.61  0.57  8.22  0.0  0.0     1\n",
       "4  1.51742  13.27  3.62  1.24  73.08  0.55  8.07  0.0  0.0     1"
      ]
     },
     "execution_count": 2,
     "metadata": {},
     "output_type": "execute_result"
    }
   ],
   "source": [
    "data = pd.read_csv(r'D:\\Datasets\\glass.csv')\n",
    "data.head()"
   ]
  },
  {
   "cell_type": "code",
   "execution_count": 3,
   "metadata": {},
   "outputs": [
    {
     "data": {
      "text/plain": [
       "(214, 10)"
      ]
     },
     "execution_count": 3,
     "metadata": {},
     "output_type": "execute_result"
    }
   ],
   "source": [
    "data.shape"
   ]
  },
  {
   "cell_type": "code",
   "execution_count": 4,
   "metadata": {},
   "outputs": [
    {
     "name": "stdout",
     "output_type": "stream",
     "text": [
      "<class 'pandas.core.frame.DataFrame'>\n",
      "RangeIndex: 214 entries, 0 to 213\n",
      "Data columns (total 10 columns):\n",
      " #   Column  Non-Null Count  Dtype  \n",
      "---  ------  --------------  -----  \n",
      " 0   RI      214 non-null    float64\n",
      " 1   Na      214 non-null    float64\n",
      " 2   Mg      214 non-null    float64\n",
      " 3   Al      214 non-null    float64\n",
      " 4   Si      214 non-null    float64\n",
      " 5   K       214 non-null    float64\n",
      " 6   Ca      214 non-null    float64\n",
      " 7   Ba      214 non-null    float64\n",
      " 8   Fe      214 non-null    float64\n",
      " 9   Type    214 non-null    int64  \n",
      "dtypes: float64(9), int64(1)\n",
      "memory usage: 16.8 KB\n"
     ]
    }
   ],
   "source": [
    "data.info()"
   ]
  },
  {
   "cell_type": "code",
   "execution_count": 5,
   "metadata": {},
   "outputs": [
    {
     "data": {
      "text/plain": [
       "2    76\n",
       "1    70\n",
       "7    29\n",
       "3    17\n",
       "5    13\n",
       "6     9\n",
       "Name: Type, dtype: int64"
      ]
     },
     "execution_count": 5,
     "metadata": {},
     "output_type": "execute_result"
    }
   ],
   "source": [
    "data['Type'].value_counts()"
   ]
  },
  {
   "cell_type": "code",
   "execution_count": 6,
   "metadata": {},
   "outputs": [
    {
     "data": {
      "text/plain": [
       "0    146\n",
       "1     68\n",
       "Name: Type, dtype: int64"
      ]
     },
     "execution_count": 6,
     "metadata": {},
     "output_type": "execute_result"
    }
   ],
   "source": [
    "data['Type'] = np.where(data['Type']<3,0,1)\n",
    "data['Type'].value_counts()"
   ]
  },
  {
   "cell_type": "code",
   "execution_count": 7,
   "metadata": {},
   "outputs": [],
   "source": [
    "x = data.drop('Type',axis=1)\n",
    "y = data['Type']"
   ]
  },
  {
   "cell_type": "code",
   "execution_count": 8,
   "metadata": {},
   "outputs": [
    {
     "name": "stdout",
     "output_type": "stream",
     "text": [
      "(292, 9) (292,)\n"
     ]
    }
   ],
   "source": [
    "from imblearn.over_sampling import RandomOverSampler\n",
    "ros = RandomOverSampler()\n",
    "x , y = ros.fit_resample(x,y)\n",
    "print(x.shape,y.shape)"
   ]
  },
  {
   "cell_type": "code",
   "execution_count": 9,
   "metadata": {},
   "outputs": [],
   "source": [
    "from sklearn.model_selection import train_test_split\n",
    "x_train,x_test,y_train,y_test = train_test_split(x,y,test_size=0.25)\n"
   ]
  },
  {
   "cell_type": "code",
   "execution_count": 10,
   "metadata": {},
   "outputs": [
    {
     "data": {
      "text/plain": [
       "KNeighborsClassifier()"
      ]
     },
     "execution_count": 10,
     "metadata": {},
     "output_type": "execute_result"
    }
   ],
   "source": [
    "from sklearn.neighbors import KNeighborsClassifier\n",
    "knc = KNeighborsClassifier()\n",
    "knc.fit(x_train,y_train)"
   ]
  },
  {
   "cell_type": "code",
   "execution_count": 11,
   "metadata": {},
   "outputs": [],
   "source": [
    "y_pred = knc.predict(x_test)"
   ]
  },
  {
   "cell_type": "code",
   "execution_count": 12,
   "metadata": {},
   "outputs": [
    {
     "name": "stdout",
     "output_type": "stream",
     "text": [
      "0.8767123287671232\n",
      "[[30  1]\n",
      " [ 8 34]]\n",
      "              precision    recall  f1-score   support\n",
      "\n",
      "           0       0.79      0.97      0.87        31\n",
      "           1       0.97      0.81      0.88        42\n",
      "\n",
      "    accuracy                           0.88        73\n",
      "   macro avg       0.88      0.89      0.88        73\n",
      "weighted avg       0.89      0.88      0.88        73\n",
      "\n"
     ]
    }
   ],
   "source": [
    "from sklearn import metrics\n",
    "print(metrics.accuracy_score(y_test,y_pred))\n",
    "print(metrics.confusion_matrix(y_test,y_pred))\n",
    "print(metrics.classification_report(y_test,y_pred))"
   ]
  },
  {
   "cell_type": "code",
   "execution_count": 13,
   "metadata": {},
   "outputs": [],
   "source": [
    "x_pred = knc.predict(x_train)"
   ]
  },
  {
   "cell_type": "code",
   "execution_count": 14,
   "metadata": {},
   "outputs": [
    {
     "name": "stdout",
     "output_type": "stream",
     "text": [
      "0.9178082191780822\n",
      "[[104  11]\n",
      " [  7  97]]\n",
      "              precision    recall  f1-score   support\n",
      "\n",
      "           0       0.94      0.90      0.92       115\n",
      "           1       0.90      0.93      0.92       104\n",
      "\n",
      "    accuracy                           0.92       219\n",
      "   macro avg       0.92      0.92      0.92       219\n",
      "weighted avg       0.92      0.92      0.92       219\n",
      "\n"
     ]
    }
   ],
   "source": [
    "from sklearn import metrics\n",
    "print(metrics.accuracy_score(y_train,x_pred))\n",
    "print(metrics.confusion_matrix(y_train,x_pred))\n",
    "print(metrics.classification_report(y_train,x_pred))"
   ]
  },
  {
   "cell_type": "markdown",
   "metadata": {},
   "source": [
    "# HYPERPARAMETER EXPERIMENTATION\n"
   ]
  },
  {
   "cell_type": "markdown",
   "metadata": {},
   "source": [
    "## n_neighbors"
   ]
  },
  {
   "cell_type": "code",
   "execution_count": 15,
   "metadata": {},
   "outputs": [
    {
     "data": {
      "text/plain": [
       "KNeighborsClassifier(n_neighbors=10)"
      ]
     },
     "execution_count": 15,
     "metadata": {},
     "output_type": "execute_result"
    }
   ],
   "source": [
    "knc1 = KNeighborsClassifier(n_neighbors = 10)\n",
    "knc1.fit(x_train , y_train)"
   ]
  },
  {
   "cell_type": "code",
   "execution_count": 16,
   "metadata": {},
   "outputs": [],
   "source": [
    "y_pre = knc1.predict(x_test)"
   ]
  },
  {
   "cell_type": "code",
   "execution_count": 17,
   "metadata": {},
   "outputs": [
    {
     "name": "stdout",
     "output_type": "stream",
     "text": [
      "0.821917808219178\n",
      "[[30  1]\n",
      " [12 30]]\n",
      "              precision    recall  f1-score   support\n",
      "\n",
      "           0       0.71      0.97      0.82        31\n",
      "           1       0.97      0.71      0.82        42\n",
      "\n",
      "    accuracy                           0.82        73\n",
      "   macro avg       0.84      0.84      0.82        73\n",
      "weighted avg       0.86      0.82      0.82        73\n",
      "\n"
     ]
    }
   ],
   "source": [
    "from sklearn import metrics\n",
    "print(metrics.accuracy_score(y_test,y_pre))\n",
    "print(metrics.confusion_matrix(y_test,y_pre))\n",
    "print(metrics.classification_report(y_test,y_pre))"
   ]
  },
  {
   "cell_type": "markdown",
   "metadata": {},
   "source": [
    "We can find value of k using either elbow method or by using hyperparameter tuning"
   ]
  },
  {
   "cell_type": "markdown",
   "metadata": {},
   "source": [
    "So first let's try with elbow method"
   ]
  },
  {
   "cell_type": "markdown",
   "metadata": {},
   "source": [
    "### Elbow Method to find value of K"
   ]
  },
  {
   "cell_type": "code",
   "execution_count": 18,
   "metadata": {},
   "outputs": [
    {
     "name": "stdout",
     "output_type": "stream",
     "text": [
      "[0.0547945205479452, 0.2054794520547945, 0.1780821917808219, 0.2054794520547945, 0.2054794520547945, 0.2328767123287671, 0.2328767123287671, 0.2328767123287671, 0.2328767123287671, 0.2465753424657534]\n"
     ]
    }
   ],
   "source": [
    "err_rate = []\n",
    "for i in range (1,50,5):\n",
    "    knc1 = KNeighborsClassifier(n_neighbors = i)\n",
    "    knc1.fit(x_train,y_train)\n",
    "    pred_i = knc1.predict(x_test)\n",
    "    err_rate.append(np.mean(pred_i != y_test))\n",
    "print(err_rate)"
   ]
  },
  {
   "cell_type": "code",
   "execution_count": 19,
   "metadata": {},
   "outputs": [
    {
     "data": {
      "image/png": "[encoded data removed]",
      "text/plain": [
       "<Figure size 720x432 with 1 Axes>"
      ]
     },
     "metadata": {
      "needs_background": "light"
     },
     "output_type": "display_data"
    }
   ],
   "source": [
    "plt.figure(figsize=(10,6))\n",
    "plt.plot(range(1,50,5),err_rate,color='blue',linestyle='dashed',marker='o',markerfacecolor='red',markersize=7)\n",
    "plt.title('Error Rate vs. K Value')\n",
    "plt.xlabel('K')\n",
    "plt.ylabel('Error Rate')\n",
    "plt.show()"
   ]
  },
  {
   "cell_type": "code",
   "execution_count": 20,
   "metadata": {},
   "outputs": [
    {
     "data": {
      "text/plain": [
       "KNeighborsClassifier(n_neighbors=27)"
      ]
     },
     "execution_count": 20,
     "metadata": {},
     "output_type": "execute_result"
    }
   ],
   "source": [
    "knc1 = KNeighborsClassifier(n_neighbors = 11)\n",
    "knc1.fit(x_train , y_train)"
   ]
  },
  {
   "cell_type": "code",
   "execution_count": 21,
   "metadata": {},
   "outputs": [
    {
     "name": "stdout",
     "output_type": "stream",
     "text": [
      "0.7671232876712328\n",
      "[[30  1]\n",
      " [16 26]]\n",
      "              precision    recall  f1-score   support\n",
      "\n",
      "           0       0.65      0.97      0.78        31\n",
      "           1       0.96      0.62      0.75        42\n",
      "\n",
      "    accuracy                           0.77        73\n",
      "   macro avg       0.81      0.79      0.77        73\n",
      "weighted avg       0.83      0.77      0.76        73\n",
      "\n"
     ]
    }
   ],
   "source": [
    "y_pre = knc1.predict(x_test)\n",
    "print(metrics.accuracy_score(y_test,y_pre))\n",
    "print(metrics.confusion_matrix(y_test,y_pre))\n",
    "print(metrics.classification_report(y_test,y_pre))"
   ]
  },
  {
   "cell_type": "code",
   "execution_count": 22,
   "metadata": {},
   "outputs": [
    {
     "name": "stdout",
     "output_type": "stream",
     "text": [
      "0.8082191780821918\n",
      "[[103  12]\n",
      " [ 30  74]]\n",
      "              precision    recall  f1-score   support\n",
      "\n",
      "           0       0.77      0.90      0.83       115\n",
      "           1       0.86      0.71      0.78       104\n",
      "\n",
      "    accuracy                           0.81       219\n",
      "   macro avg       0.82      0.80      0.80       219\n",
      "weighted avg       0.82      0.81      0.81       219\n",
      "\n"
     ]
    }
   ],
   "source": [
    "x_pre = knc1.predict(x_train)\n",
    "print(metrics.accuracy_score(y_train,x_pre))\n",
    "print(metrics.confusion_matrix(y_train,x_pre))\n",
    "print(metrics.classification_report(y_train,x_pre))"
   ]
  },
  {
   "cell_type": "code",
   "execution_count": 23,
   "metadata": {},
   "outputs": [
    {
     "name": "stdout",
     "output_type": "stream",
     "text": [
      "Testing Accuracy\n",
      "0.7671232876712328\n",
      "[[30  1]\n",
      " [16 26]]\n",
      "              precision    recall  f1-score   support\n",
      "\n",
      "           0       0.65      0.97      0.78        31\n",
      "           1       0.96      0.62      0.75        42\n",
      "\n",
      "    accuracy                           0.77        73\n",
      "   macro avg       0.81      0.79      0.77        73\n",
      "weighted avg       0.83      0.77      0.76        73\n",
      "\n",
      "Training Accuracy\n",
      "0.8036529680365296\n",
      "[[103  12]\n",
      " [ 31  73]]\n",
      "              precision    recall  f1-score   support\n",
      "\n",
      "           0       0.77      0.90      0.83       115\n",
      "           1       0.86      0.70      0.77       104\n",
      "\n",
      "    accuracy                           0.80       219\n",
      "   macro avg       0.81      0.80      0.80       219\n",
      "weighted avg       0.81      0.80      0.80       219\n",
      "\n"
     ]
    }
   ],
   "source": [
    "knc3 = KNeighborsClassifier(n_neighbors = 36)\n",
    "knc3.fit(x_train , y_train)\n",
    "y_pre = knc3.predict(x_test)\n",
    "print(\"Testing Accuracy\")\n",
    "print(metrics.accuracy_score(y_test,y_pre))\n",
    "print(metrics.confusion_matrix(y_test,y_pre))\n",
    "print(metrics.classification_report(y_test,y_pre))\n",
    "print(\"Training Accuracy\")\n",
    "x_pre = knc3.predict(x_train)\n",
    "print(metrics.accuracy_score(y_train,x_pre))\n",
    "print(metrics.confusion_matrix(y_train,x_pre))\n",
    "print(metrics.classification_report(y_train,x_pre))"
   ]
  },
  {
   "cell_type": "code",
   "execution_count": 24,
   "metadata": {},
   "outputs": [],
   "source": [
    "# k =42"
   ]
  },
  {
   "cell_type": "code",
   "execution_count": 25,
   "metadata": {},
   "outputs": [
    {
     "name": "stdout",
     "output_type": "stream",
     "text": [
      "Testing Accuracy\n",
      "0.7534246575342466\n",
      "[[30  1]\n",
      " [17 25]]\n",
      "              precision    recall  f1-score   support\n",
      "\n",
      "           0       0.64      0.97      0.77        31\n",
      "           1       0.96      0.60      0.74        42\n",
      "\n",
      "    accuracy                           0.75        73\n",
      "   macro avg       0.80      0.78      0.75        73\n",
      "weighted avg       0.82      0.75      0.75        73\n",
      "\n",
      "Training Accuracy\n",
      "0.8036529680365296\n",
      "[[104  11]\n",
      " [ 32  72]]\n",
      "              precision    recall  f1-score   support\n",
      "\n",
      "           0       0.76      0.90      0.83       115\n",
      "           1       0.87      0.69      0.77       104\n",
      "\n",
      "    accuracy                           0.80       219\n",
      "   macro avg       0.82      0.80      0.80       219\n",
      "weighted avg       0.81      0.80      0.80       219\n",
      "\n"
     ]
    }
   ],
   "source": [
    "knc41 = KNeighborsClassifier(n_neighbors = 42)\n",
    "knc41.fit(x_train , y_train)\n",
    "y_pre = knc41.predict(x_test)\n",
    "print(\"Testing Accuracy\")\n",
    "print(metrics.accuracy_score(y_test,y_pre))\n",
    "print(metrics.confusion_matrix(y_test,y_pre))\n",
    "print(metrics.classification_report(y_test,y_pre))\n",
    "print(\"Training Accuracy\")\n",
    "x_pre = knc41.predict(x_train)\n",
    "print(metrics.accuracy_score(y_train,x_pre))\n",
    "print(metrics.confusion_matrix(y_train,x_pre))\n",
    "print(metrics.classification_report(y_train,x_pre))"
   ]
  },
  {
   "cell_type": "markdown",
   "metadata": {},
   "source": [
    "## algorithm and leaf_size"
   ]
  },
  {
   "cell_type": "code",
   "execution_count": 26,
   "metadata": {},
   "outputs": [
    {
     "name": "stdout",
     "output_type": "stream",
     "text": [
      "Testing Accuracy\n",
      "0.8767123287671232\n",
      "[[30  1]\n",
      " [ 8 34]]\n",
      "              precision    recall  f1-score   support\n",
      "\n",
      "           0       0.79      0.97      0.87        31\n",
      "           1       0.97      0.81      0.88        42\n",
      "\n",
      "    accuracy                           0.88        73\n",
      "   macro avg       0.88      0.89      0.88        73\n",
      "weighted avg       0.89      0.88      0.88        73\n",
      "\n",
      "Training Accuracy\n",
      "0.9178082191780822\n",
      "[[104  11]\n",
      " [  7  97]]\n",
      "              precision    recall  f1-score   support\n",
      "\n",
      "           0       0.94      0.90      0.92       115\n",
      "           1       0.90      0.93      0.92       104\n",
      "\n",
      "    accuracy                           0.92       219\n",
      "   macro avg       0.92      0.92      0.92       219\n",
      "weighted avg       0.92      0.92      0.92       219\n",
      "\n"
     ]
    }
   ],
   "source": [
    "knc42 = KNeighborsClassifier(algorithm = 'ball_tree',leaf_size=50)\n",
    "knc42.fit(x_train , y_train)\n",
    "y_pre = knc42.predict(x_test)\n",
    "print(\"Testing Accuracy\")\n",
    "print(metrics.accuracy_score(y_test,y_pre))\n",
    "print(metrics.confusion_matrix(y_test,y_pre))\n",
    "print(metrics.classification_report(y_test,y_pre))\n",
    "print(\"Training Accuracy\")\n",
    "x_pre = knc42.predict(x_train)\n",
    "print(metrics.accuracy_score(y_train,x_pre))\n",
    "print(metrics.confusion_matrix(y_train,x_pre))\n",
    "print(metrics.classification_report(y_train,x_pre))"
   ]
  },
  {
   "cell_type": "code",
   "execution_count": 27,
   "metadata": {},
   "outputs": [
    {
     "name": "stdout",
     "output_type": "stream",
     "text": [
      "Testing Accuracy\n",
      "0.8767123287671232\n",
      "[[30  1]\n",
      " [ 8 34]]\n",
      "              precision    recall  f1-score   support\n",
      "\n",
      "           0       0.79      0.97      0.87        31\n",
      "           1       0.97      0.81      0.88        42\n",
      "\n",
      "    accuracy                           0.88        73\n",
      "   macro avg       0.88      0.89      0.88        73\n",
      "weighted avg       0.89      0.88      0.88        73\n",
      "\n",
      "Training Accuracy\n",
      "0.9178082191780822\n",
      "[[104  11]\n",
      " [  7  97]]\n",
      "              precision    recall  f1-score   support\n",
      "\n",
      "           0       0.94      0.90      0.92       115\n",
      "           1       0.90      0.93      0.92       104\n",
      "\n",
      "    accuracy                           0.92       219\n",
      "   macro avg       0.92      0.92      0.92       219\n",
      "weighted avg       0.92      0.92      0.92       219\n",
      "\n"
     ]
    }
   ],
   "source": [
    "knc5 = KNeighborsClassifier(algorithm = 'kd_tree')\n",
    "knc5.fit(x_train , y_train)\n",
    "y_predd = knc5.predict(x_test)\n",
    "print(\"Testing Accuracy\")\n",
    "print(metrics.accuracy_score(y_test,y_predd))\n",
    "print(metrics.confusion_matrix(y_test,y_predd))\n",
    "print(metrics.classification_report(y_test,y_predd))\n",
    "print(\"Training Accuracy\")\n",
    "x_predd= knc5.predict(x_train)\n",
    "print(metrics.accuracy_score(y_train,x_predd))\n",
    "print(metrics.confusion_matrix(y_train,x_predd))\n",
    "print(metrics.classification_report(y_train,x_predd))"
   ]
  },
  {
   "cell_type": "code",
   "execution_count": 28,
   "metadata": {},
   "outputs": [
    {
     "name": "stdout",
     "output_type": "stream",
     "text": [
      "Testing Accuracy\n",
      "0.8767123287671232\n",
      "[[30  1]\n",
      " [ 8 34]]\n",
      "              precision    recall  f1-score   support\n",
      "\n",
      "           0       0.79      0.97      0.87        31\n",
      "           1       0.97      0.81      0.88        42\n",
      "\n",
      "    accuracy                           0.88        73\n",
      "   macro avg       0.88      0.89      0.88        73\n",
      "weighted avg       0.89      0.88      0.88        73\n",
      "\n",
      "Training Accuracy\n",
      "0.9178082191780822\n",
      "[[104  11]\n",
      " [  7  97]]\n",
      "              precision    recall  f1-score   support\n",
      "\n",
      "           0       0.94      0.90      0.92       115\n",
      "           1       0.90      0.93      0.92       104\n",
      "\n",
      "    accuracy                           0.92       219\n",
      "   macro avg       0.92      0.92      0.92       219\n",
      "weighted avg       0.92      0.92      0.92       219\n",
      "\n"
     ]
    }
   ],
   "source": [
    "knc5 = KNeighborsClassifier(algorithm = 'ball_tree')\n",
    "knc5.fit(x_train , y_train)\n",
    "y_pred = knc5.predict(x_test)\n",
    "print(\"Testing Accuracy\")\n",
    "print(metrics.accuracy_score(y_test,y_pred))\n",
    "print(metrics.confusion_matrix(y_test,y_pred))\n",
    "print(metrics.classification_report(y_test,y_pred))\n",
    "print(\"Training Accuracy\")\n",
    "x_pred= knc5.predict(x_train)\n",
    "print(metrics.accuracy_score(y_train,x_pred))\n",
    "print(metrics.confusion_matrix(y_train,x_pred))\n",
    "print(metrics.classification_report(y_train,x_pred))"
   ]
  },
  {
   "cell_type": "markdown",
   "metadata": {},
   "source": [
    "## weights"
   ]
  },
  {
   "cell_type": "code",
   "execution_count": 29,
   "metadata": {},
   "outputs": [
    {
     "data": {
      "text/plain": [
       "KNeighborsClassifier(weights='distance')"
      ]
     },
     "execution_count": 29,
     "metadata": {},
     "output_type": "execute_result"
    }
   ],
   "source": [
    "knc23 = KNeighborsClassifier(weights = \"distance\")\n",
    "knc23.fit(x_train,y_train)"
   ]
  },
  {
   "cell_type": "code",
   "execution_count": 30,
   "metadata": {},
   "outputs": [
    {
     "name": "stdout",
     "output_type": "stream",
     "text": [
      "0.9863013698630136\n",
      "[[31  0]\n",
      " [ 1 41]]\n",
      "              precision    recall  f1-score   support\n",
      "\n",
      "           0       0.97      1.00      0.98        31\n",
      "           1       1.00      0.98      0.99        42\n",
      "\n",
      "    accuracy                           0.99        73\n",
      "   macro avg       0.98      0.99      0.99        73\n",
      "weighted avg       0.99      0.99      0.99        73\n",
      "\n"
     ]
    }
   ],
   "source": [
    "y_pr = knc23.predict(x_test)\n",
    "print(metrics.accuracy_score(y_test,y_pr))\n",
    "print(metrics.confusion_matrix(y_test,y_pr))\n",
    "print(metrics.classification_report(y_test,y_pr))"
   ]
  },
  {
   "cell_type": "code",
   "execution_count": 31,
   "metadata": {},
   "outputs": [
    {
     "name": "stdout",
     "output_type": "stream",
     "text": [
      "1.0\n",
      "[[115   0]\n",
      " [  0 104]]\n",
      "              precision    recall  f1-score   support\n",
      "\n",
      "           0       1.00      1.00      1.00       115\n",
      "           1       1.00      1.00      1.00       104\n",
      "\n",
      "    accuracy                           1.00       219\n",
      "   macro avg       1.00      1.00      1.00       219\n",
      "weighted avg       1.00      1.00      1.00       219\n",
      "\n"
     ]
    }
   ],
   "source": [
    "x_pr = knc23.predict(x_train)\n",
    "print(metrics.accuracy_score(y_train,x_pr))\n",
    "print(metrics.confusion_matrix(y_train,x_pr))\n",
    "print(metrics.classification_report(y_train,x_pr))"
   ]
  },
  {
   "cell_type": "markdown",
   "metadata": {},
   "source": [
    "## p"
   ]
  },
  {
   "cell_type": "code",
   "execution_count": 32,
   "metadata": {},
   "outputs": [
    {
     "data": {
      "text/plain": [
       "KNeighborsClassifier(p=1)"
      ]
     },
     "execution_count": 32,
     "metadata": {},
     "output_type": "execute_result"
    }
   ],
   "source": [
    "knc45 = KNeighborsClassifier(p = 1)\n",
    "knc45.fit(x_train , y_train)"
   ]
  },
  {
   "cell_type": "code",
   "execution_count": 33,
   "metadata": {},
   "outputs": [
    {
     "name": "stdout",
     "output_type": "stream",
     "text": [
      "0.8767123287671232\n",
      "[[30  1]\n",
      " [ 8 34]]\n",
      "              precision    recall  f1-score   support\n",
      "\n",
      "           0       0.79      0.97      0.87        31\n",
      "           1       0.97      0.81      0.88        42\n",
      "\n",
      "    accuracy                           0.88        73\n",
      "   macro avg       0.88      0.89      0.88        73\n",
      "weighted avg       0.89      0.88      0.88        73\n",
      "\n"
     ]
    }
   ],
   "source": [
    "y_p = knc.predict(x_test)\n",
    "print(metrics.accuracy_score(y_test,y_p))\n",
    "print(metrics.confusion_matrix(y_test,y_p))\n",
    "print(metrics.classification_report(y_test,y_p))"
   ]
  },
  {
   "cell_type": "code",
   "execution_count": 34,
   "metadata": {},
   "outputs": [
    {
     "name": "stdout",
     "output_type": "stream",
     "text": [
      "0.9223744292237442\n",
      "[[102  13]\n",
      " [  4 100]]\n",
      "              precision    recall  f1-score   support\n",
      "\n",
      "           0       0.96      0.89      0.92       115\n",
      "           1       0.88      0.96      0.92       104\n",
      "\n",
      "    accuracy                           0.92       219\n",
      "   macro avg       0.92      0.92      0.92       219\n",
      "weighted avg       0.93      0.92      0.92       219\n",
      "\n"
     ]
    }
   ],
   "source": [
    "x_p = knc45.predict(x_train)\n",
    "print(metrics.accuracy_score(y_train,x_p))\n",
    "print(metrics.confusion_matrix(y_train,x_p))\n",
    "print(metrics.classification_report(y_train,x_p))"
   ]
  },
  {
   "cell_type": "code",
   "execution_count": null,
   "metadata": {},
   "outputs": [],
   "source": []
  },
  {
   "cell_type": "markdown",
   "metadata": {},
   "source": [
    "# IMPORTANT HYPERPARAMETERS OF KNN"
   ]
  },
  {
   "cell_type": "markdown",
   "metadata": {},
   "source": [
    "## 1 - n_neighbors\n",
    "\n",
    "## 2 - weights\n",
    "\n",
    "## 3 - leaf_size\n",
    "\n",
    "## 4 - p\n",
    "\n",
    "## 5 - algorithm\n"
   ]
  },
  {
   "cell_type": "markdown",
   "metadata": {},
   "source": [
    "Now lets do hyperparameter tuning"
   ]
  },
  {
   "cell_type": "code",
   "execution_count": 51,
   "metadata": {
    "scrolled": true
   },
   "outputs": [
    {
     "data": {
      "text/plain": [
       "{'n_neighbors': [10, 11, 12, 13, 14, 15],\n",
       " 'weights': ['uniform', 'distance'],\n",
       " 'algorithm': ['auto', 'brute_force', 'ball_tree', 'kd_tree'],\n",
       " 'leaf_size': [10, 11, 12, 13, 14, 15, 16, 17, 18, 19],\n",
       " 'p': [1, 2]}"
      ]
     },
     "execution_count": 51,
     "metadata": {},
     "output_type": "execute_result"
    }
   ],
   "source": [
    "from sklearn.model_selection import RandomizedSearchCV\n",
    "\n",
    "params = {\n",
    "    'n_neighbors' : [10,11,12,13,14,15],\n",
    "    'weights'     : ['uniform','distance'],\n",
    "    'algorithm'   : ['auto','brute_force','ball_tree','kd_tree'],\n",
    "    'leaf_size'   : [i for i in range(10,20,1)],\n",
    "    'p'           : [1,2]\n",
    "}\n",
    "params"
   ]
  },
  {
   "cell_type": "code",
   "execution_count": 52,
   "metadata": {},
   "outputs": [
    {
     "data": {
      "text/plain": [
       "RandomizedSearchCV(cv=3, estimator=KNeighborsClassifier(), n_iter=50, n_jobs=-1,\n",
       "                   param_distributions={'algorithm': ['auto', 'brute_force',\n",
       "                                                      'ball_tree', 'kd_tree'],\n",
       "                                        'leaf_size': [10, 11, 12, 13, 14, 15,\n",
       "                                                      16, 17, 18, 19],\n",
       "                                        'n_neighbors': [10, 11, 12, 13, 14, 15],\n",
       "                                        'p': [1, 2],\n",
       "                                        'weights': ['uniform', 'distance']})"
      ]
     },
     "execution_count": 52,
     "metadata": {},
     "output_type": "execute_result"
    }
   ],
   "source": [
    "knc = KNeighborsClassifier()\n",
    "rnd_knc = RandomizedSearchCV(estimator = knc , param_distributions=params , n_iter = 50 , cv = 3 , n_jobs = -1)\n",
    "rnd_knc.fit(x_train,y_train)"
   ]
  },
  {
   "cell_type": "code",
   "execution_count": 53,
   "metadata": {},
   "outputs": [
    {
     "data": {
      "text/plain": [
       "KNeighborsClassifier(algorithm='ball_tree', leaf_size=18, n_neighbors=12,\n",
       "                     weights='distance')"
      ]
     },
     "execution_count": 53,
     "metadata": {},
     "output_type": "execute_result"
    }
   ],
   "source": [
    "a = rnd_knc.best_estimator_\n",
    "a"
   ]
  },
  {
   "cell_type": "code",
   "execution_count": 54,
   "metadata": {},
   "outputs": [
    {
     "data": {
      "text/plain": [
       "KNeighborsClassifier(algorithm='ball_tree', leaf_size=18, n_neighbors=12,\n",
       "                     weights='distance')"
      ]
     },
     "execution_count": 54,
     "metadata": {},
     "output_type": "execute_result"
    }
   ],
   "source": [
    "a.fit(x_train,y_train)"
   ]
  },
  {
   "cell_type": "code",
   "execution_count": 55,
   "metadata": {},
   "outputs": [],
   "source": [
    "y_predict = a.predict(x_test)"
   ]
  },
  {
   "cell_type": "code",
   "execution_count": 56,
   "metadata": {},
   "outputs": [
    {
     "name": "stdout",
     "output_type": "stream",
     "text": [
      "0.9863013698630136\n",
      "[[31  0]\n",
      " [ 1 41]]\n",
      "              precision    recall  f1-score   support\n",
      "\n",
      "           0       0.97      1.00      0.98        31\n",
      "           1       1.00      0.98      0.99        42\n",
      "\n",
      "    accuracy                           0.99        73\n",
      "   macro avg       0.98      0.99      0.99        73\n",
      "weighted avg       0.99      0.99      0.99        73\n",
      "\n"
     ]
    }
   ],
   "source": [
    "print(metrics.accuracy_score(y_test,y_predict))\n",
    "print(metrics.confusion_matrix(y_test,y_predict))\n",
    "print(metrics.classification_report(y_test,y_predict))"
   ]
  },
  {
   "cell_type": "code",
   "execution_count": 57,
   "metadata": {},
   "outputs": [],
   "source": [
    "x_predict = a.predict(x_train)"
   ]
  },
  {
   "cell_type": "code",
   "execution_count": 58,
   "metadata": {},
   "outputs": [
    {
     "name": "stdout",
     "output_type": "stream",
     "text": [
      "1.0\n",
      "[[115   0]\n",
      " [  0 104]]\n",
      "              precision    recall  f1-score   support\n",
      "\n",
      "           0       1.00      1.00      1.00       115\n",
      "           1       1.00      1.00      1.00       104\n",
      "\n",
      "    accuracy                           1.00       219\n",
      "   macro avg       1.00      1.00      1.00       219\n",
      "weighted avg       1.00      1.00      1.00       219\n",
      "\n"
     ]
    }
   ],
   "source": [
    "print(metrics.accuracy_score(y_train,x_predict))\n",
    "print(metrics.confusion_matrix(y_train,x_predict))\n",
    "print(metrics.classification_report(y_train,x_predict))"
   ]
  }
 ],
 "metadata": {
  "kernelspec": {
   "display_name": "Python 3",
   "language": "python",
   "name": "python3"
  },
  "language_info": {
   "codemirror_mode": {
    "name": "ipython",
    "version": 3
   },
   "file_extension": ".py",
   "mimetype": "text/x-python",
   "name": "python",
   "nbconvert_exporter": "python",
   "pygments_lexer": "ipython3",
   "version": "3.8.5"
  }
 },
 "nbformat": 4,
 "nbformat_minor": 4
}
