{
 "cells": [
  {
   "cell_type": "code",
   "execution_count": 1,
   "metadata": {},
   "outputs": [],
   "source": [
    "import numpy as np\n",
    "import pandas as pd\n",
    "import matplotlib.pyplot as plt\n",
    "import seaborn as sbn"
   ]
  },
  {
   "cell_type": "code",
   "execution_count": 2,
   "metadata": {},
   "outputs": [
    {
     "data": {
      "text/html": [
       "<div>\n",
       "<style scoped>\n",
       "    .dataframe tbody tr th:only-of-type {\n",
       "        vertical-align: middle;\n",
       "    }\n",
       "\n",
       "    .dataframe tbody tr th {\n",
       "        vertical-align: top;\n",
       "    }\n",
       "\n",
       "    .dataframe thead th {\n",
       "        text-align: right;\n",
       "    }\n",
       "</style>\n",
       "<table border=\"1\" class=\"dataframe\">\n",
       "  <thead>\n",
       "    <tr style=\"text-align: right;\">\n",
       "      <th></th>\n",
       "      <th>age</th>\n",
       "      <th>sex</th>\n",
       "      <th>bmi</th>\n",
       "      <th>children</th>\n",
       "      <th>smoker</th>\n",
       "      <th>region</th>\n",
       "      <th>expenses</th>\n",
       "    </tr>\n",
       "  </thead>\n",
       "  <tbody>\n",
       "    <tr>\n",
       "      <th>0</th>\n",
       "      <td>19</td>\n",
       "      <td>female</td>\n",
       "      <td>27.9</td>\n",
       "      <td>0</td>\n",
       "      <td>yes</td>\n",
       "      <td>southwest</td>\n",
       "      <td>16884.92</td>\n",
       "    </tr>\n",
       "    <tr>\n",
       "      <th>1</th>\n",
       "      <td>18</td>\n",
       "      <td>male</td>\n",
       "      <td>33.8</td>\n",
       "      <td>1</td>\n",
       "      <td>no</td>\n",
       "      <td>southeast</td>\n",
       "      <td>1725.55</td>\n",
       "    </tr>\n",
       "    <tr>\n",
       "      <th>2</th>\n",
       "      <td>28</td>\n",
       "      <td>male</td>\n",
       "      <td>33.0</td>\n",
       "      <td>3</td>\n",
       "      <td>no</td>\n",
       "      <td>southeast</td>\n",
       "      <td>4449.46</td>\n",
       "    </tr>\n",
       "    <tr>\n",
       "      <th>3</th>\n",
       "      <td>33</td>\n",
       "      <td>male</td>\n",
       "      <td>22.7</td>\n",
       "      <td>0</td>\n",
       "      <td>no</td>\n",
       "      <td>northwest</td>\n",
       "      <td>21984.47</td>\n",
       "    </tr>\n",
       "    <tr>\n",
       "      <th>4</th>\n",
       "      <td>32</td>\n",
       "      <td>male</td>\n",
       "      <td>28.9</td>\n",
       "      <td>0</td>\n",
       "      <td>no</td>\n",
       "      <td>northwest</td>\n",
       "      <td>3866.86</td>\n",
       "    </tr>\n",
       "  </tbody>\n",
       "</table>\n",
       "</div>"
      ],
      "text/plain": [
       "   age     sex   bmi  children smoker     region  expenses\n",
       "0   19  female  27.9         0    yes  southwest  16884.92\n",
       "1   18    male  33.8         1     no  southeast   1725.55\n",
       "2   28    male  33.0         3     no  southeast   4449.46\n",
       "3   33    male  22.7         0     no  northwest  21984.47\n",
       "4   32    male  28.9         0     no  northwest   3866.86"
      ]
     },
     "execution_count": 2,
     "metadata": {},
     "output_type": "execute_result"
    }
   ],
   "source": [
    "data = pd.read_csv(r'D:\\Datasets\\insurance.csv')\n",
    "data.head()"
   ]
  },
  {
   "cell_type": "code",
   "execution_count": 3,
   "metadata": {},
   "outputs": [
    {
     "data": {
      "text/plain": [
       "(1338, 7)"
      ]
     },
     "execution_count": 3,
     "metadata": {},
     "output_type": "execute_result"
    }
   ],
   "source": [
    "data.shape"
   ]
  },
  {
   "cell_type": "code",
   "execution_count": 4,
   "metadata": {},
   "outputs": [
    {
     "data": {
      "text/plain": [
       "9366"
      ]
     },
     "execution_count": 4,
     "metadata": {},
     "output_type": "execute_result"
    }
   ],
   "source": [
    "data.size"
   ]
  },
  {
   "cell_type": "code",
   "execution_count": 5,
   "metadata": {},
   "outputs": [
    {
     "name": "stdout",
     "output_type": "stream",
     "text": [
      "<class 'pandas.core.frame.DataFrame'>\n",
      "RangeIndex: 1338 entries, 0 to 1337\n",
      "Data columns (total 7 columns):\n",
      " #   Column    Non-Null Count  Dtype  \n",
      "---  ------    --------------  -----  \n",
      " 0   age       1338 non-null   int64  \n",
      " 1   sex       1338 non-null   object \n",
      " 2   bmi       1338 non-null   float64\n",
      " 3   children  1338 non-null   int64  \n",
      " 4   smoker    1338 non-null   object \n",
      " 5   region    1338 non-null   object \n",
      " 6   expenses  1338 non-null   float64\n",
      "dtypes: float64(2), int64(2), object(3)\n",
      "memory usage: 73.3+ KB\n"
     ]
    }
   ],
   "source": [
    "data.info()"
   ]
  },
  {
   "cell_type": "code",
   "execution_count": 6,
   "metadata": {},
   "outputs": [
    {
     "data": {
      "text/html": [
       "<div>\n",
       "<style scoped>\n",
       "    .dataframe tbody tr th:only-of-type {\n",
       "        vertical-align: middle;\n",
       "    }\n",
       "\n",
       "    .dataframe tbody tr th {\n",
       "        vertical-align: top;\n",
       "    }\n",
       "\n",
       "    .dataframe thead th {\n",
       "        text-align: right;\n",
       "    }\n",
       "</style>\n",
       "<table border=\"1\" class=\"dataframe\">\n",
       "  <thead>\n",
       "    <tr style=\"text-align: right;\">\n",
       "      <th></th>\n",
       "      <th>age</th>\n",
       "      <th>sex</th>\n",
       "      <th>bmi</th>\n",
       "      <th>children</th>\n",
       "      <th>smoker</th>\n",
       "      <th>region</th>\n",
       "      <th>expenses</th>\n",
       "    </tr>\n",
       "  </thead>\n",
       "  <tbody>\n",
       "    <tr>\n",
       "      <th>0</th>\n",
       "      <td>19</td>\n",
       "      <td>0</td>\n",
       "      <td>27.9</td>\n",
       "      <td>0</td>\n",
       "      <td>1</td>\n",
       "      <td>southwest</td>\n",
       "      <td>16884.92</td>\n",
       "    </tr>\n",
       "    <tr>\n",
       "      <th>1</th>\n",
       "      <td>18</td>\n",
       "      <td>1</td>\n",
       "      <td>33.8</td>\n",
       "      <td>1</td>\n",
       "      <td>0</td>\n",
       "      <td>southeast</td>\n",
       "      <td>1725.55</td>\n",
       "    </tr>\n",
       "    <tr>\n",
       "      <th>2</th>\n",
       "      <td>28</td>\n",
       "      <td>1</td>\n",
       "      <td>33.0</td>\n",
       "      <td>3</td>\n",
       "      <td>0</td>\n",
       "      <td>southeast</td>\n",
       "      <td>4449.46</td>\n",
       "    </tr>\n",
       "    <tr>\n",
       "      <th>3</th>\n",
       "      <td>33</td>\n",
       "      <td>1</td>\n",
       "      <td>22.7</td>\n",
       "      <td>0</td>\n",
       "      <td>0</td>\n",
       "      <td>northwest</td>\n",
       "      <td>21984.47</td>\n",
       "    </tr>\n",
       "    <tr>\n",
       "      <th>4</th>\n",
       "      <td>32</td>\n",
       "      <td>1</td>\n",
       "      <td>28.9</td>\n",
       "      <td>0</td>\n",
       "      <td>0</td>\n",
       "      <td>northwest</td>\n",
       "      <td>3866.86</td>\n",
       "    </tr>\n",
       "  </tbody>\n",
       "</table>\n",
       "</div>"
      ],
      "text/plain": [
       "   age  sex   bmi  children  smoker     region  expenses\n",
       "0   19    0  27.9         0       1  southwest  16884.92\n",
       "1   18    1  33.8         1       0  southeast   1725.55\n",
       "2   28    1  33.0         3       0  southeast   4449.46\n",
       "3   33    1  22.7         0       0  northwest  21984.47\n",
       "4   32    1  28.9         0       0  northwest   3866.86"
      ]
     },
     "execution_count": 6,
     "metadata": {},
     "output_type": "execute_result"
    }
   ],
   "source": [
    "data['sex'] = np.where(data['sex']=='male',1,0)\n",
    "data['smoker'] = np.where(data['smoker']=='yes',1,0)\n",
    "data.head()"
   ]
  },
  {
   "cell_type": "code",
   "execution_count": 7,
   "metadata": {},
   "outputs": [
    {
     "data": {
      "text/html": [
       "<div>\n",
       "<style scoped>\n",
       "    .dataframe tbody tr th:only-of-type {\n",
       "        vertical-align: middle;\n",
       "    }\n",
       "\n",
       "    .dataframe tbody tr th {\n",
       "        vertical-align: top;\n",
       "    }\n",
       "\n",
       "    .dataframe thead th {\n",
       "        text-align: right;\n",
       "    }\n",
       "</style>\n",
       "<table border=\"1\" class=\"dataframe\">\n",
       "  <thead>\n",
       "    <tr style=\"text-align: right;\">\n",
       "      <th></th>\n",
       "      <th>age</th>\n",
       "      <th>sex</th>\n",
       "      <th>bmi</th>\n",
       "      <th>children</th>\n",
       "      <th>smoker</th>\n",
       "      <th>region</th>\n",
       "      <th>expenses</th>\n",
       "      <th>northwest</th>\n",
       "      <th>southeast</th>\n",
       "      <th>southwest</th>\n",
       "    </tr>\n",
       "  </thead>\n",
       "  <tbody>\n",
       "    <tr>\n",
       "      <th>0</th>\n",
       "      <td>19</td>\n",
       "      <td>0</td>\n",
       "      <td>27.9</td>\n",
       "      <td>0</td>\n",
       "      <td>1</td>\n",
       "      <td>southwest</td>\n",
       "      <td>16884.92</td>\n",
       "      <td>0</td>\n",
       "      <td>0</td>\n",
       "      <td>1</td>\n",
       "    </tr>\n",
       "    <tr>\n",
       "      <th>1</th>\n",
       "      <td>18</td>\n",
       "      <td>1</td>\n",
       "      <td>33.8</td>\n",
       "      <td>1</td>\n",
       "      <td>0</td>\n",
       "      <td>southeast</td>\n",
       "      <td>1725.55</td>\n",
       "      <td>0</td>\n",
       "      <td>1</td>\n",
       "      <td>0</td>\n",
       "    </tr>\n",
       "    <tr>\n",
       "      <th>2</th>\n",
       "      <td>28</td>\n",
       "      <td>1</td>\n",
       "      <td>33.0</td>\n",
       "      <td>3</td>\n",
       "      <td>0</td>\n",
       "      <td>southeast</td>\n",
       "      <td>4449.46</td>\n",
       "      <td>0</td>\n",
       "      <td>1</td>\n",
       "      <td>0</td>\n",
       "    </tr>\n",
       "    <tr>\n",
       "      <th>3</th>\n",
       "      <td>33</td>\n",
       "      <td>1</td>\n",
       "      <td>22.7</td>\n",
       "      <td>0</td>\n",
       "      <td>0</td>\n",
       "      <td>northwest</td>\n",
       "      <td>21984.47</td>\n",
       "      <td>1</td>\n",
       "      <td>0</td>\n",
       "      <td>0</td>\n",
       "    </tr>\n",
       "    <tr>\n",
       "      <th>4</th>\n",
       "      <td>32</td>\n",
       "      <td>1</td>\n",
       "      <td>28.9</td>\n",
       "      <td>0</td>\n",
       "      <td>0</td>\n",
       "      <td>northwest</td>\n",
       "      <td>3866.86</td>\n",
       "      <td>1</td>\n",
       "      <td>0</td>\n",
       "      <td>0</td>\n",
       "    </tr>\n",
       "  </tbody>\n",
       "</table>\n",
       "</div>"
      ],
      "text/plain": [
       "   age  sex   bmi  children  smoker     region  expenses  northwest  \\\n",
       "0   19    0  27.9         0       1  southwest  16884.92          0   \n",
       "1   18    1  33.8         1       0  southeast   1725.55          0   \n",
       "2   28    1  33.0         3       0  southeast   4449.46          0   \n",
       "3   33    1  22.7         0       0  northwest  21984.47          1   \n",
       "4   32    1  28.9         0       0  northwest   3866.86          1   \n",
       "\n",
       "   southeast  southwest  \n",
       "0          0          1  \n",
       "1          1          0  \n",
       "2          1          0  \n",
       "3          0          0  \n",
       "4          0          0  "
      ]
     },
     "execution_count": 7,
     "metadata": {},
     "output_type": "execute_result"
    }
   ],
   "source": [
    "c = pd.get_dummies(data['region'],drop_first=True)\n",
    "data = pd.concat([data,c],axis=1)\n",
    "data.head()"
   ]
  },
  {
   "cell_type": "code",
   "execution_count": 8,
   "metadata": {},
   "outputs": [],
   "source": [
    "data.drop('region',axis=1,inplace=True)"
   ]
  },
  {
   "cell_type": "code",
   "execution_count": 9,
   "metadata": {},
   "outputs": [
    {
     "data": {
      "text/html": [
       "<div>\n",
       "<style scoped>\n",
       "    .dataframe tbody tr th:only-of-type {\n",
       "        vertical-align: middle;\n",
       "    }\n",
       "\n",
       "    .dataframe tbody tr th {\n",
       "        vertical-align: top;\n",
       "    }\n",
       "\n",
       "    .dataframe thead th {\n",
       "        text-align: right;\n",
       "    }\n",
       "</style>\n",
       "<table border=\"1\" class=\"dataframe\">\n",
       "  <thead>\n",
       "    <tr style=\"text-align: right;\">\n",
       "      <th></th>\n",
       "      <th>age</th>\n",
       "      <th>sex</th>\n",
       "      <th>bmi</th>\n",
       "      <th>children</th>\n",
       "      <th>smoker</th>\n",
       "      <th>expenses</th>\n",
       "      <th>northwest</th>\n",
       "      <th>southeast</th>\n",
       "      <th>southwest</th>\n",
       "    </tr>\n",
       "  </thead>\n",
       "  <tbody>\n",
       "    <tr>\n",
       "      <th>0</th>\n",
       "      <td>19</td>\n",
       "      <td>0</td>\n",
       "      <td>27.9</td>\n",
       "      <td>0</td>\n",
       "      <td>1</td>\n",
       "      <td>16884.92</td>\n",
       "      <td>0</td>\n",
       "      <td>0</td>\n",
       "      <td>1</td>\n",
       "    </tr>\n",
       "    <tr>\n",
       "      <th>1</th>\n",
       "      <td>18</td>\n",
       "      <td>1</td>\n",
       "      <td>33.8</td>\n",
       "      <td>1</td>\n",
       "      <td>0</td>\n",
       "      <td>1725.55</td>\n",
       "      <td>0</td>\n",
       "      <td>1</td>\n",
       "      <td>0</td>\n",
       "    </tr>\n",
       "    <tr>\n",
       "      <th>2</th>\n",
       "      <td>28</td>\n",
       "      <td>1</td>\n",
       "      <td>33.0</td>\n",
       "      <td>3</td>\n",
       "      <td>0</td>\n",
       "      <td>4449.46</td>\n",
       "      <td>0</td>\n",
       "      <td>1</td>\n",
       "      <td>0</td>\n",
       "    </tr>\n",
       "    <tr>\n",
       "      <th>3</th>\n",
       "      <td>33</td>\n",
       "      <td>1</td>\n",
       "      <td>22.7</td>\n",
       "      <td>0</td>\n",
       "      <td>0</td>\n",
       "      <td>21984.47</td>\n",
       "      <td>1</td>\n",
       "      <td>0</td>\n",
       "      <td>0</td>\n",
       "    </tr>\n",
       "    <tr>\n",
       "      <th>4</th>\n",
       "      <td>32</td>\n",
       "      <td>1</td>\n",
       "      <td>28.9</td>\n",
       "      <td>0</td>\n",
       "      <td>0</td>\n",
       "      <td>3866.86</td>\n",
       "      <td>1</td>\n",
       "      <td>0</td>\n",
       "      <td>0</td>\n",
       "    </tr>\n",
       "  </tbody>\n",
       "</table>\n",
       "</div>"
      ],
      "text/plain": [
       "   age  sex   bmi  children  smoker  expenses  northwest  southeast  southwest\n",
       "0   19    0  27.9         0       1  16884.92          0          0          1\n",
       "1   18    1  33.8         1       0   1725.55          0          1          0\n",
       "2   28    1  33.0         3       0   4449.46          0          1          0\n",
       "3   33    1  22.7         0       0  21984.47          1          0          0\n",
       "4   32    1  28.9         0       0   3866.86          1          0          0"
      ]
     },
     "execution_count": 9,
     "metadata": {},
     "output_type": "execute_result"
    }
   ],
   "source": [
    "data.head()"
   ]
  },
  {
   "cell_type": "code",
   "execution_count": 10,
   "metadata": {},
   "outputs": [],
   "source": [
    "x = data.drop('expenses',axis=1)\n",
    "y = data['expenses']"
   ]
  },
  {
   "cell_type": "code",
   "execution_count": 11,
   "metadata": {},
   "outputs": [],
   "source": [
    "from sklearn.model_selection import train_test_split\n",
    "x_train,x_test,y_train,y_test = train_test_split(x,y,test_size=0.25,random_state=101)"
   ]
  },
  {
   "cell_type": "code",
   "execution_count": 12,
   "metadata": {},
   "outputs": [],
   "source": [
    "from sklearn.preprocessing import RobustScaler\n",
    "rob = RobustScaler()\n",
    "x_train = pd.DataFrame(rob.fit_transform(x_train),columns=x_train.columns)\n",
    "x_test = pd.DataFrame(rob.fit_transform(x_test),columns=x_test.columns)"
   ]
  },
  {
   "cell_type": "code",
   "execution_count": 13,
   "metadata": {},
   "outputs": [
    {
     "data": {
      "text/plain": [
       "DecisionTreeRegressor()"
      ]
     },
     "execution_count": 13,
     "metadata": {},
     "output_type": "execute_result"
    }
   ],
   "source": [
    "from sklearn.tree import DecisionTreeRegressor\n",
    "dtr = DecisionTreeRegressor()\n",
    "dtr.fit(x_train,y_train)"
   ]
  },
  {
   "cell_type": "code",
   "execution_count": 14,
   "metadata": {},
   "outputs": [
    {
     "data": {
      "text/plain": [
       "1.0"
      ]
     },
     "execution_count": 14,
     "metadata": {},
     "output_type": "execute_result"
    }
   ],
   "source": [
    "dtr.score(x_train,y_train)"
   ]
  },
  {
   "cell_type": "code",
   "execution_count": 15,
   "metadata": {},
   "outputs": [
    {
     "data": {
      "text/plain": [
       "0.7082802170075063"
      ]
     },
     "execution_count": 15,
     "metadata": {},
     "output_type": "execute_result"
    }
   ],
   "source": [
    "dtr.score(x_test,y_test)"
   ]
  },
  {
   "cell_type": "code",
   "execution_count": null,
   "metadata": {},
   "outputs": [],
   "source": []
  },
  {
   "cell_type": "markdown",
   "metadata": {},
   "source": [
    "# Manual HyperParameter Tuning\n"
   ]
  },
  {
   "cell_type": "code",
   "execution_count": null,
   "metadata": {},
   "outputs": [],
   "source": []
  },
  {
   "cell_type": "markdown",
   "metadata": {},
   "source": [
    "### 1 - criterion - (default = 'squared_error')"
   ]
  },
  {
   "cell_type": "markdown",
   "metadata": {},
   "source": [
    "Note I am using the old version check for the changes in official documentation here - https://scikit-learn.org/stable/modules/generated/sklearn.tree.DecisionTreeRegressor.html"
   ]
  },
  {
   "cell_type": "code",
   "execution_count": 16,
   "metadata": {},
   "outputs": [
    {
     "data": {
      "text/plain": [
       "DecisionTreeRegressor(criterion='mae')"
      ]
     },
     "execution_count": 16,
     "metadata": {},
     "output_type": "execute_result"
    }
   ],
   "source": [
    "dtr1 = DecisionTreeRegressor(criterion='mae')   \n",
    "dtr1.fit(x_train,y_train)"
   ]
  },
  {
   "cell_type": "code",
   "execution_count": 17,
   "metadata": {},
   "outputs": [],
   "source": [
    "y_pred1 = dtr.predict(x_test)"
   ]
  },
  {
   "cell_type": "code",
   "execution_count": 18,
   "metadata": {},
   "outputs": [
    {
     "data": {
      "text/plain": [
       "1.0"
      ]
     },
     "execution_count": 18,
     "metadata": {},
     "output_type": "execute_result"
    }
   ],
   "source": [
    "dtr1.score(x_train,y_train)"
   ]
  },
  {
   "cell_type": "code",
   "execution_count": 19,
   "metadata": {},
   "outputs": [
    {
     "data": {
      "text/plain": [
       "0.6726753795501554"
      ]
     },
     "execution_count": 19,
     "metadata": {},
     "output_type": "execute_result"
    }
   ],
   "source": [
    "dtr1.score(x_test,y_test)"
   ]
  },
  {
   "cell_type": "code",
   "execution_count": null,
   "metadata": {},
   "outputs": [],
   "source": []
  },
  {
   "cell_type": "markdown",
   "metadata": {},
   "source": [
    "### 2 - splitter - (default = 'best')"
   ]
  },
  {
   "cell_type": "markdown",
   "metadata": {},
   "source": [
    "#### if splitter is selected as random it becomes extratreeregressor"
   ]
  },
  {
   "cell_type": "code",
   "execution_count": 20,
   "metadata": {},
   "outputs": [
    {
     "data": {
      "text/plain": [
       "DecisionTreeRegressor()"
      ]
     },
     "execution_count": 20,
     "metadata": {},
     "output_type": "execute_result"
    }
   ],
   "source": [
    "dtr2 = DecisionTreeRegressor(splitter='best') \n",
    "dtr2.fit(x_train, y_train)"
   ]
  },
  {
   "cell_type": "code",
   "execution_count": 21,
   "metadata": {},
   "outputs": [],
   "source": [
    "y_pred2 = dtr2.predict(x_test)"
   ]
  },
  {
   "cell_type": "code",
   "execution_count": 22,
   "metadata": {},
   "outputs": [
    {
     "data": {
      "text/plain": [
       "1.0"
      ]
     },
     "execution_count": 22,
     "metadata": {},
     "output_type": "execute_result"
    }
   ],
   "source": [
    "dtr2.score(x_train ,y_train)"
   ]
  },
  {
   "cell_type": "code",
   "execution_count": 23,
   "metadata": {},
   "outputs": [
    {
     "data": {
      "text/plain": [
       "0.7067001908929151"
      ]
     },
     "execution_count": 23,
     "metadata": {},
     "output_type": "execute_result"
    }
   ],
   "source": [
    "dtr2.score(x_test, y_test)"
   ]
  },
  {
   "cell_type": "code",
   "execution_count": null,
   "metadata": {},
   "outputs": [],
   "source": []
  },
  {
   "cell_type": "markdown",
   "metadata": {},
   "source": [
    "### 3 - max_depth (default = None)"
   ]
  },
  {
   "cell_type": "code",
   "execution_count": 24,
   "metadata": {},
   "outputs": [
    {
     "data": {
      "text/plain": [
       "DecisionTreeRegressor(max_depth=4)"
      ]
     },
     "execution_count": 24,
     "metadata": {},
     "output_type": "execute_result"
    }
   ],
   "source": [
    "dtr3 = DecisionTreeRegressor(max_depth=4)\n",
    "dtr3.fit(x_train, y_train)"
   ]
  },
  {
   "cell_type": "code",
   "execution_count": 25,
   "metadata": {},
   "outputs": [],
   "source": [
    "y_pred3 = dtr3.predict(x_test)"
   ]
  },
  {
   "cell_type": "code",
   "execution_count": 26,
   "metadata": {},
   "outputs": [
    {
     "data": {
      "text/plain": [
       "0.873443261765262"
      ]
     },
     "execution_count": 26,
     "metadata": {},
     "output_type": "execute_result"
    }
   ],
   "source": [
    "dtr3.score(x_train, y_train)"
   ]
  },
  {
   "cell_type": "code",
   "execution_count": 27,
   "metadata": {},
   "outputs": [
    {
     "data": {
      "text/plain": [
       "0.8366907031571059"
      ]
     },
     "execution_count": 27,
     "metadata": {},
     "output_type": "execute_result"
    }
   ],
   "source": [
    "dtr3.score(x_test,y_test)"
   ]
  },
  {
   "cell_type": "markdown",
   "metadata": {},
   "source": [
    "#### check the depth of the tree below in the figure!"
   ]
  },
  {
   "cell_type": "code",
   "execution_count": 28,
   "metadata": {},
   "outputs": [
    {
     "data": {
      "image/png": "[encoded data removed]",
      "text/plain": [
       "<Figure size 1080x576 with 1 Axes>"
      ]
     },
     "metadata": {
      "needs_background": "light"
     },
     "output_type": "display_data"
    }
   ],
   "source": [
    "plt.figure(figsize=(15,8))\n",
    "from sklearn import tree\n",
    "tree.plot_tree(dtr3)\n",
    "plt.show()"
   ]
  },
  {
   "cell_type": "code",
   "execution_count": null,
   "metadata": {},
   "outputs": [],
   "source": []
  },
  {
   "cell_type": "markdown",
   "metadata": {},
   "source": [
    "### 4 - min_samples_split (default=2)"
   ]
  },
  {
   "cell_type": "code",
   "execution_count": 29,
   "metadata": {},
   "outputs": [
    {
     "data": {
      "text/plain": [
       "DecisionTreeRegressor(min_samples_split=200)"
      ]
     },
     "execution_count": 29,
     "metadata": {},
     "output_type": "execute_result"
    }
   ],
   "source": [
    "dtr4 = DecisionTreeRegressor(min_samples_split=200)\n",
    "dtr4.fit(x_train ,y_train)"
   ]
  },
  {
   "cell_type": "code",
   "execution_count": 30,
   "metadata": {},
   "outputs": [],
   "source": [
    "y_pred4 = dtr4.predict(x_test)"
   ]
  },
  {
   "cell_type": "code",
   "execution_count": 31,
   "metadata": {},
   "outputs": [
    {
     "data": {
      "text/plain": [
       "0.8486244130440108"
      ]
     },
     "execution_count": 31,
     "metadata": {},
     "output_type": "execute_result"
    }
   ],
   "source": [
    "dtr4.score(x_train ,y_train)"
   ]
  },
  {
   "cell_type": "code",
   "execution_count": 32,
   "metadata": {},
   "outputs": [
    {
     "data": {
      "text/plain": [
       "0.8307527221353794"
      ]
     },
     "execution_count": 32,
     "metadata": {},
     "output_type": "execute_result"
    }
   ],
   "source": [
    "dtr4.score(x_test, y_test)"
   ]
  },
  {
   "cell_type": "code",
   "execution_count": 33,
   "metadata": {},
   "outputs": [
    {
     "data": {
      "image/png": "[encoded data removed]",
      "text/plain": [
       "<Figure size 1080x576 with 1 Axes>"
      ]
     },
     "metadata": {
      "needs_background": "light"
     },
     "output_type": "display_data"
    }
   ],
   "source": [
    "plt.figure(figsize=(15,8))\n",
    "from sklearn import tree\n",
    "tree.plot_tree(dtr4)\n",
    "plt.show()"
   ]
  },
  {
   "cell_type": "markdown",
   "metadata": {},
   "source": [
    "#### see if the samples are only above 200 then only split happens else, that particular node becomes leaf node"
   ]
  },
  {
   "cell_type": "code",
   "execution_count": null,
   "metadata": {},
   "outputs": [],
   "source": []
  },
  {
   "cell_type": "markdown",
   "metadata": {},
   "source": [
    "### 5 - min_samples_leaf (default=1)"
   ]
  },
  {
   "cell_type": "code",
   "execution_count": 34,
   "metadata": {},
   "outputs": [
    {
     "data": {
      "text/plain": [
       "DecisionTreeRegressor(min_samples_leaf=100)"
      ]
     },
     "execution_count": 34,
     "metadata": {},
     "output_type": "execute_result"
    }
   ],
   "source": [
    "dtr5 = DecisionTreeRegressor(min_samples_leaf=100)\n",
    "dtr5.fit(x_train ,y_train)"
   ]
  },
  {
   "cell_type": "code",
   "execution_count": 35,
   "metadata": {},
   "outputs": [],
   "source": [
    "y_pred5 = dtr5.predict(x_test)"
   ]
  },
  {
   "cell_type": "code",
   "execution_count": 36,
   "metadata": {},
   "outputs": [
    {
     "data": {
      "text/plain": [
       "0.8461435932539034"
      ]
     },
     "execution_count": 36,
     "metadata": {},
     "output_type": "execute_result"
    }
   ],
   "source": [
    "dtr5.score(x_train, y_train)"
   ]
  },
  {
   "cell_type": "code",
   "execution_count": 37,
   "metadata": {},
   "outputs": [
    {
     "data": {
      "text/plain": [
       "0.8268449771919969"
      ]
     },
     "execution_count": 37,
     "metadata": {},
     "output_type": "execute_result"
    }
   ],
   "source": [
    "dtr5.score(x_test, y_test)"
   ]
  },
  {
   "cell_type": "code",
   "execution_count": 38,
   "metadata": {},
   "outputs": [
    {
     "data": {
      "image/png": "[encoded data removed]",
      "text/plain": [
       "<Figure size 1080x576 with 1 Axes>"
      ]
     },
     "metadata": {
      "needs_background": "light"
     },
     "output_type": "display_data"
    }
   ],
   "source": [
    "plt.figure(figsize=(15,8))\n",
    "from sklearn import tree\n",
    "tree.plot_tree(dtr5)\n",
    "plt.show()"
   ]
  },
  {
   "cell_type": "markdown",
   "metadata": {},
   "source": [
    "#### see 'minimum' number of samples at leaf node"
   ]
  },
  {
   "cell_type": "code",
   "execution_count": null,
   "metadata": {},
   "outputs": [],
   "source": []
  },
  {
   "cell_type": "markdown",
   "metadata": {},
   "source": [
    "### 6 - max_features (default=None)"
   ]
  },
  {
   "cell_type": "code",
   "execution_count": 39,
   "metadata": {},
   "outputs": [
    {
     "data": {
      "text/plain": [
       "DecisionTreeRegressor(max_features='sqrt')"
      ]
     },
     "execution_count": 39,
     "metadata": {},
     "output_type": "execute_result"
    }
   ],
   "source": [
    "dtr6 = DecisionTreeRegressor(max_features='sqrt')\n",
    "dtr6.fit(x_train ,y_train)"
   ]
  },
  {
   "cell_type": "code",
   "execution_count": 40,
   "metadata": {},
   "outputs": [],
   "source": [
    "y_pred6 = dtr6.predict(x_test)"
   ]
  },
  {
   "cell_type": "code",
   "execution_count": 41,
   "metadata": {},
   "outputs": [
    {
     "data": {
      "text/plain": [
       "1.0"
      ]
     },
     "execution_count": 41,
     "metadata": {},
     "output_type": "execute_result"
    }
   ],
   "source": [
    "dtr6.score(x_train, y_train)"
   ]
  },
  {
   "cell_type": "code",
   "execution_count": 42,
   "metadata": {},
   "outputs": [
    {
     "data": {
      "text/plain": [
       "0.3786453128578181"
      ]
     },
     "execution_count": 42,
     "metadata": {},
     "output_type": "execute_result"
    }
   ],
   "source": [
    "dtr6.score(x_test, y_test)"
   ]
  },
  {
   "cell_type": "code",
   "execution_count": null,
   "metadata": {},
   "outputs": [],
   "source": []
  },
  {
   "cell_type": "markdown",
   "metadata": {},
   "source": [
    "### 7 - max_leaf_nodes (default=None)"
   ]
  },
  {
   "cell_type": "code",
   "execution_count": 43,
   "metadata": {},
   "outputs": [
    {
     "data": {
      "text/plain": [
       "DecisionTreeRegressor(max_leaf_nodes=10)"
      ]
     },
     "execution_count": 43,
     "metadata": {},
     "output_type": "execute_result"
    }
   ],
   "source": [
    "dtr7 = DecisionTreeRegressor(max_leaf_nodes=10)\n",
    "dtr7.fit(x_train ,y_train)"
   ]
  },
  {
   "cell_type": "code",
   "execution_count": 44,
   "metadata": {},
   "outputs": [],
   "source": [
    "y_pred7 = dtr7.predict(x_test)"
   ]
  },
  {
   "cell_type": "code",
   "execution_count": 45,
   "metadata": {},
   "outputs": [
    {
     "data": {
      "text/plain": [
       "0.8656533012874325"
      ]
     },
     "execution_count": 45,
     "metadata": {},
     "output_type": "execute_result"
    }
   ],
   "source": [
    "dtr7.score(x_train, y_train)"
   ]
  },
  {
   "cell_type": "code",
   "execution_count": 46,
   "metadata": {},
   "outputs": [
    {
     "data": {
      "text/plain": [
       "0.829513763577163"
      ]
     },
     "execution_count": 46,
     "metadata": {},
     "output_type": "execute_result"
    }
   ],
   "source": [
    "dtr7.score(x_test, y_test)"
   ]
  },
  {
   "cell_type": "code",
   "execution_count": 47,
   "metadata": {},
   "outputs": [
    {
     "data": {
      "image/png": "[encoded data removed]",
      "text/plain": [
       "<Figure size 1080x576 with 1 Axes>"
      ]
     },
     "metadata": {
      "needs_background": "light"
     },
     "output_type": "display_data"
    }
   ],
   "source": [
    "plt.figure(figsize=(15,8))\n",
    "from sklearn import tree\n",
    "tree.plot_tree(dtr7)\n",
    "plt.show()"
   ]
  },
  {
   "cell_type": "markdown",
   "metadata": {},
   "source": [
    "#### count the leaf nodes..there will be exactly 10 of them!"
   ]
  },
  {
   "cell_type": "code",
   "execution_count": null,
   "metadata": {},
   "outputs": [],
   "source": []
  },
  {
   "cell_type": "markdown",
   "metadata": {},
   "source": [
    "### 8 -  ccp_alpha"
   ]
  },
  {
   "cell_type": "code",
   "execution_count": 48,
   "metadata": {},
   "outputs": [],
   "source": [
    "dtr8 = DecisionTreeRegressor()\n",
    "dtr8.fit(x_train,y_train)\n",
    "path = dtr.cost_complexity_pruning_path(x_train, y_train)"
   ]
  },
  {
   "cell_type": "code",
   "execution_count": 49,
   "metadata": {},
   "outputs": [],
   "source": [
    "ccp_alphas,impurities = path.ccp_alphas, path.impurities"
   ]
  },
  {
   "cell_type": "code",
   "execution_count": 50,
   "metadata": {},
   "outputs": [
    {
     "data": {
      "text/plain": [
       "array([0.00000000e+00, 8.42472544e-06, 8.42473194e-06, 8.42474215e-06,\n",
       "       1.12163509e-05, 2.87138319e-05, 3.36989092e-05, 6.82452639e-05,\n",
       "       8.37986058e-05, 8.79361934e-05, 1.34795613e-04, 1.34795726e-04,\n",
       "       1.40029911e-04, 1.40029918e-04, 1.56331008e-04, 1.85493519e-04,\n",
       "       1.86706558e-04, 2.95563329e-04, 4.12811566e-04, 4.21934197e-04,\n",
       "       4.31156530e-04, 4.31156530e-04, 6.14207380e-04, 6.25390496e-04,\n",
       "       7.05932206e-04, 7.91425724e-04, 8.68594213e-04, 9.35643075e-04,\n",
       "       1.04810565e-03, 1.54416749e-03, 1.63315054e-03, 1.66944167e-03,\n",
       "       1.70613161e-03, 1.70613163e-03, 1.82055501e-03, 1.95433699e-03,\n",
       "       1.97412762e-03, 2.17751753e-03, 2.28295115e-03, 2.43750415e-03,\n",
       "       2.52367896e-03, 2.77647059e-03, 2.99227319e-03, 4.19242266e-03,\n",
       "       4.19242272e-03, 4.60697908e-03, 4.97786640e-03, 5.00942172e-03,\n",
       "       5.00942174e-03, 6.14162513e-03, 6.85309405e-03, 7.04765703e-03,\n",
       "       7.39263875e-03, 7.81734796e-03, 7.81734796e-03, 7.81980724e-03,\n",
       "       8.33903290e-03, 8.33903290e-03, 8.87756730e-03, 8.91969092e-03,\n",
       "       8.91969093e-03, 9.12397806e-03, 9.38963111e-03, 9.47637088e-03,\n",
       "       9.47637089e-03, 9.60722832e-03, 1.11529910e-02, 1.12949153e-02,\n",
       "       1.25625125e-02, 1.31702891e-02, 1.32215852e-02, 1.34795613e-02,\n",
       "       1.37603855e-02, 1.53551844e-02, 1.61548023e-02, 1.75298604e-02,\n",
       "       1.84279163e-02, 1.95220588e-02, 2.00376869e-02, 2.03549849e-02,\n",
       "       2.13870888e-02, 2.25787138e-02, 2.25787138e-02, 2.72675474e-02,\n",
       "       2.91737288e-02, 3.02512961e-02, 3.02841476e-02, 3.15067298e-02,\n",
       "       3.17449651e-02, 3.23043370e-02, 3.27068794e-02, 4.40902293e-02,\n",
       "       4.84644068e-02, 5.56953638e-02, 5.70737787e-02, 5.70737787e-02,\n",
       "       6.16422731e-02, 6.38795613e-02, 6.77744765e-02, 7.14079262e-02,\n",
       "       7.16650548e-02, 7.76949485e-02, 8.12925723e-02, 8.24424717e-02,\n",
       "       8.41176969e-02, 9.07178961e-02, 1.01227567e-01, 1.04437504e-01,\n",
       "       1.18459621e-01, 1.18840278e-01, 1.21040960e-01, 1.50234098e-01,\n",
       "       1.53715653e-01, 1.54241326e-01, 1.54416749e-01, 1.70428764e-01,\n",
       "       1.82049900e-01, 1.87423779e-01, 1.97412762e-01, 2.00000449e-01,\n",
       "       2.08271984e-01, 2.16192240e-01, 2.21939182e-01, 2.39524626e-01,\n",
       "       2.42225390e-01, 2.74362712e-01, 3.08829561e-01, 3.09326072e-01,\n",
       "       3.32081805e-01, 3.40367348e-01, 3.97274628e-01, 4.02923679e-01,\n",
       "       4.86509272e-01, 5.23310070e-01, 5.28166750e-01, 6.32139631e-01,\n",
       "       6.40606198e-01, 6.63404985e-01, 7.37373679e-01, 7.71895563e-01,\n",
       "       8.73509272e-01, 8.93290528e-01, 1.01641810e+00, 1.02659242e+00,\n",
       "       1.19837532e+00, 1.48109806e+00, 1.58797288e+00, 1.87444786e+00,\n",
       "       2.05721715e+00, 2.10618146e+00, 2.24647901e+00, 2.35689811e+00,\n",
       "       2.45180474e+00, 2.59214960e+00, 2.89399816e+00, 2.92042453e+00,\n",
       "       2.93570668e+00, 3.16813480e+00, 3.33642876e+00, 3.38719088e+00,\n",
       "       3.55355179e+00, 3.65699028e+00, 3.90529417e+00, 4.16448654e+00,\n",
       "       4.20651027e+00, 4.23403071e+00, 4.26256276e+00, 4.27917373e+00,\n",
       "       4.35898310e+00, 4.39436098e+00, 4.41041057e+00, 4.43482672e+00,\n",
       "       4.47629990e+00, 4.51606800e+00, 4.52461261e+00, 4.59881183e+00,\n",
       "       4.64797288e+00, 4.65567777e+00, 4.69816869e+00, 4.73113479e+00,\n",
       "       4.73863026e+00, 4.93021976e+00, 4.98820665e+00, 5.04404192e+00,\n",
       "       5.19050927e+00, 5.29274257e+00, 5.38975095e+00, 5.67861062e+00,\n",
       "       5.75493686e+00, 5.90620819e+00, 6.01327463e+00, 6.08612569e+00,\n",
       "       6.18642074e+00, 6.26329417e+00, 6.36529053e+00, 6.51042792e+00,\n",
       "       6.73682079e+00, 6.75282953e+00, 6.77744766e+00, 6.87193247e+00,\n",
       "       7.34209850e+00, 7.43448162e+00, 7.78165683e+00, 7.99435620e+00,\n",
       "       8.06741702e+00, 8.42083794e+00, 8.47925045e+00, 8.71935276e+00,\n",
       "       9.37092935e+00, 9.61600425e+00, 1.01426792e+01, 1.04377318e+01,\n",
       "       1.04810568e+01, 1.07765807e+01, 1.08076273e+01, 1.09813043e+01,\n",
       "       1.11198825e+01, 1.12687550e+01, 1.12972540e+01, 1.14881632e+01,\n",
       "       1.15614377e+01, 1.16694915e+01, 1.19990758e+01, 1.26092377e+01,\n",
       "       1.30499265e+01, 1.30790585e+01, 1.32194318e+01, 1.32293562e+01,\n",
       "       1.35142684e+01, 1.37931184e+01, 1.44406979e+01, 1.50590033e+01,\n",
       "       1.53173400e+01, 1.53263028e+01, 1.55003949e+01, 1.56564947e+01,\n",
       "       1.56754702e+01, 1.57272504e+01, 1.58053719e+01, 1.60386824e+01,\n",
       "       1.60690985e+01, 1.61454178e+01, 1.62324040e+01, 1.62468000e+01,\n",
       "       1.63543101e+01, 1.65393719e+01, 1.67327538e+01, 1.68416759e+01,\n",
       "       1.69285265e+01, 1.69820962e+01, 1.71777153e+01, 1.73007526e+01,\n",
       "       1.74436690e+01, 1.74676451e+01, 1.76488551e+01, 1.77804147e+01,\n",
       "       1.83289622e+01, 1.83921866e+01, 1.85764913e+01, 1.88101009e+01,\n",
       "       1.90151809e+01, 1.96857619e+01, 1.98366253e+01, 2.00720018e+01,\n",
       "       2.01420838e+01, 2.04256512e+01, 2.07620371e+01, 2.07640718e+01,\n",
       "       2.08035342e+01, 2.08740962e+01, 2.11976890e+01, 2.13047323e+01,\n",
       "       2.14306459e+01, 2.18481667e+01, 2.18794865e+01, 2.20217509e+01,\n",
       "       2.21539662e+01, 2.22128555e+01, 2.26052669e+01, 2.28321141e+01,\n",
       "       2.28814168e+01, 2.31227502e+01, 2.37605296e+01, 2.39374624e+01,\n",
       "       2.44489190e+01, 2.50040287e+01, 2.54773903e+01, 2.54916303e+01,\n",
       "       2.55518245e+01, 2.56105462e+01, 2.57355400e+01, 2.58542377e+01,\n",
       "       2.59256244e+01, 2.61848889e+01, 2.64236555e+01, 2.64952602e+01,\n",
       "       2.65247502e+01, 2.66974293e+01, 2.69523941e+01, 2.70191905e+01,\n",
       "       2.74277579e+01, 2.81567779e+01, 2.81636185e+01, 2.85507710e+01,\n",
       "       2.85776296e+01, 2.90619094e+01, 2.92325565e+01, 2.98251047e+01,\n",
       "       3.03412822e+01, 3.07374458e+01, 3.10292169e+01, 3.11349174e+01,\n",
       "       3.11365934e+01, 3.24483135e+01, 3.25246684e+01, 3.28233101e+01,\n",
       "       3.37300171e+01, 3.40158965e+01, 3.43422238e+01, 3.57121449e+01,\n",
       "       3.57778714e+01, 3.64945787e+01, 3.66106680e+01, 3.72619940e+01,\n",
       "       3.76500660e+01, 3.81114636e+01, 3.86634652e+01, 3.88040877e+01,\n",
       "       3.88374748e+01, 3.92547165e+01, 3.97302772e+01, 4.11271550e+01,\n",
       "       4.12478166e+01, 4.18664207e+01, 4.22093719e+01, 4.30037707e+01,\n",
       "       4.36445125e+01, 4.43018804e+01, 4.46506243e+01, 4.48990422e+01,\n",
       "       4.54518112e+01, 4.60152504e+01, 4.61213305e+01, 4.62425890e+01,\n",
       "       4.73208425e+01, 4.74744001e+01, 4.75905177e+01, 4.78874126e+01,\n",
       "       4.86495799e+01, 4.88826960e+01, 4.92149233e+01, 5.12762130e+01,\n",
       "       5.15572084e+01, 5.17398983e+01, 5.21567157e+01, 5.31201662e+01,\n",
       "       5.35624547e+01, 5.51857420e+01, 5.57294740e+01, 5.60880817e+01,\n",
       "       5.65299119e+01, 5.69038445e+01, 5.74916052e+01, 5.89704504e+01,\n",
       "       6.22695737e+01, 6.28225727e+01, 6.28341642e+01, 6.37658825e+01,\n",
       "       6.55319067e+01, 6.61470383e+01, 6.67745284e+01, 6.73346004e+01,\n",
       "       6.94157031e+01, 7.04091089e+01, 7.17001220e+01, 7.21394657e+01,\n",
       "       7.26219454e+01, 7.28352032e+01, 7.38486102e+01, 7.39368965e+01,\n",
       "       7.43945245e+01, 7.45178250e+01, 7.45876786e+01, 7.47222660e+01,\n",
       "       7.52830170e+01, 7.62515786e+01, 7.70512619e+01, 7.87370372e+01,\n",
       "       7.87902714e+01, 7.89674231e+01, 7.90324231e+01, 8.08652132e+01,\n",
       "       8.24523817e+01, 8.25686542e+01, 8.30494698e+01, 8.33634154e+01,\n",
       "       8.38368586e+01, 8.44087837e+01, 8.58549352e+01, 8.65099184e+01,\n",
       "       8.85637257e+01, 8.88768431e+01, 9.00997897e+01, 9.04292191e+01,\n",
       "       9.08240738e+01, 9.14247570e+01, 9.17742974e+01, 9.33375342e+01,\n",
       "       9.34421755e+01, 9.48353063e+01, 9.60723183e+01, 9.61802397e+01,\n",
       "       9.75001662e+01, 9.78717699e+01, 9.83074224e+01, 9.87566711e+01,\n",
       "       9.90257887e+01, 1.00543774e+02, 1.01311910e+02, 1.03700299e+02,\n",
       "       1.05252487e+02, 1.06875674e+02, 1.07748873e+02, 1.08046173e+02,\n",
       "       1.09322313e+02, 1.09394733e+02, 1.10908358e+02, 1.11096474e+02,\n",
       "       1.11261269e+02, 1.11496902e+02, 1.13244470e+02, 1.13671962e+02,\n",
       "       1.14364581e+02, 1.14782395e+02, 1.15557090e+02, 1.15877037e+02,\n",
       "       1.18390094e+02, 1.18905679e+02, 1.18944637e+02, 1.20858419e+02,\n",
       "       1.23621805e+02, 1.25110734e+02, 1.29040838e+02, 1.33227121e+02,\n",
       "       1.34991316e+02, 1.36074826e+02, 1.37555471e+02, 1.39253970e+02,\n",
       "       1.39406129e+02, 1.39444333e+02, 1.40511181e+02, 1.41331677e+02,\n",
       "       1.44247877e+02, 1.46798074e+02, 1.47892678e+02, 1.49900473e+02,\n",
       "       1.50475557e+02, 1.51586745e+02, 1.52089546e+02, 1.56325059e+02,\n",
       "       1.57272192e+02, 1.57607380e+02, 1.57875182e+02, 1.59112750e+02,\n",
       "       1.61328549e+02, 1.61426802e+02, 1.61732675e+02, 1.62043196e+02,\n",
       "       1.62608174e+02, 1.63615727e+02, 1.64477318e+02, 1.65268751e+02,\n",
       "       1.66200247e+02, 1.67430104e+02, 1.71015057e+02, 1.71886182e+02,\n",
       "       1.72712728e+02, 1.74053336e+02, 1.74103848e+02, 1.74147263e+02,\n",
       "       1.74537822e+02, 1.75252140e+02, 1.75600259e+02, 1.77713921e+02,\n",
       "       1.79866196e+02, 1.80793944e+02, 1.81459626e+02, 1.84259070e+02,\n",
       "       1.85855011e+02, 1.87193005e+02, 1.97259781e+02, 1.98047949e+02,\n",
       "       2.01108348e+02, 2.01310438e+02, 2.03218304e+02, 2.08594615e+02,\n",
       "       2.08910753e+02, 2.12586331e+02, 2.13159710e+02, 2.14747181e+02,\n",
       "       2.15800625e+02, 2.17417495e+02, 2.20016842e+02, 2.20897799e+02,\n",
       "       2.21526644e+02, 2.21633596e+02, 2.23006438e+02, 2.25098028e+02,\n",
       "       2.29594186e+02, 2.32401158e+02, 2.33542318e+02, 2.42744644e+02,\n",
       "       2.42902381e+02, 2.44420748e+02, 2.46555789e+02, 2.47911995e+02,\n",
       "       2.53410824e+02, 2.55817579e+02, 2.59938796e+02, 2.60070636e+02,\n",
       "       2.60427652e+02, 2.62469754e+02, 2.63495823e+02, 2.66899714e+02,\n",
       "       2.67907057e+02, 2.69522225e+02, 2.70621033e+02, 2.71490055e+02,\n",
       "       2.71656176e+02, 2.76118189e+02, 2.81278743e+02, 2.81374209e+02,\n",
       "       2.83943476e+02, 2.85856213e+02, 2.86528544e+02, 2.87777091e+02,\n",
       "       2.92859552e+02, 2.94432866e+02, 3.06293959e+02, 3.10981062e+02,\n",
       "       3.14239370e+02, 3.14653677e+02, 3.14839813e+02, 3.18512881e+02,\n",
       "       3.18557719e+02, 3.23128009e+02, 3.24322744e+02, 3.28324587e+02,\n",
       "       3.29058450e+02, 3.31004464e+02, 3.40520869e+02, 3.45346802e+02,\n",
       "       3.46963277e+02, 3.50647994e+02, 3.50910628e+02, 3.55904909e+02,\n",
       "       3.56707299e+02, 3.64924003e+02, 3.66457926e+02, 3.68479255e+02,\n",
       "       3.69898197e+02, 3.71650246e+02, 3.78788670e+02, 3.83026370e+02,\n",
       "       3.84044067e+02, 3.86536064e+02, 3.97953262e+02, 4.01400946e+02,\n",
       "       4.29717232e+02, 4.34041892e+02, 4.45120440e+02, 4.48484149e+02,\n",
       "       4.49363336e+02, 4.49776883e+02, 4.50650733e+02, 4.57294577e+02,\n",
       "       4.66231973e+02, 4.72638318e+02, 4.73452235e+02, 4.73682029e+02,\n",
       "       4.85508560e+02, 4.90676025e+02, 4.90987008e+02, 4.94449712e+02,\n",
       "       5.08558545e+02, 5.08655916e+02, 5.10939247e+02, 5.11616710e+02,\n",
       "       5.17847980e+02, 5.24018717e+02, 5.26140407e+02, 5.26676521e+02,\n",
       "       5.35004342e+02, 5.37481934e+02, 5.42754594e+02, 5.48955336e+02,\n",
       "       5.51483399e+02, 5.75108270e+02, 5.78916337e+02, 5.83715479e+02,\n",
       "       6.00970756e+02, 6.06199156e+02, 6.10227336e+02, 6.21181052e+02,\n",
       "       6.25935722e+02, 6.37831607e+02, 6.38572081e+02, 6.43234457e+02,\n",
       "       6.45931369e+02, 6.46526371e+02, 6.46527303e+02, 6.47086531e+02,\n",
       "       6.52842492e+02, 6.53234955e+02, 6.56700685e+02, 6.68260062e+02,\n",
       "       6.75639709e+02, 6.76831376e+02, 6.82823603e+02, 6.82939600e+02,\n",
       "       6.87245724e+02, 6.92208409e+02, 7.46436709e+02, 7.49160079e+02,\n",
       "       7.59240016e+02, 7.59767479e+02, 7.63474950e+02, 7.65058924e+02,\n",
       "       7.91028582e+02, 7.94715195e+02, 8.00217486e+02, 8.04325988e+02,\n",
       "       8.04992526e+02, 8.07726760e+02, 8.11583072e+02, 8.15793927e+02,\n",
       "       8.20803448e+02, 8.36764096e+02, 8.45856741e+02, 8.67244487e+02,\n",
       "       8.72645614e+02, 8.88240021e+02, 8.89712065e+02, 8.97735694e+02,\n",
       "       9.02865173e+02, 9.28204640e+02, 9.36349546e+02, 9.46231283e+02,\n",
       "       9.49442623e+02, 9.58703274e+02, 9.61683005e+02, 9.78256902e+02,\n",
       "       9.88488036e+02, 9.89277837e+02, 9.92764470e+02, 9.95129559e+02,\n",
       "       1.01124455e+03, 1.03477102e+03, 1.04173911e+03, 1.05422889e+03,\n",
       "       1.07875495e+03, 1.10308821e+03, 1.10607076e+03, 1.10895600e+03,\n",
       "       1.12132759e+03, 1.16478786e+03, 1.17105002e+03, 1.17190671e+03,\n",
       "       1.19004438e+03, 1.19662186e+03, 1.22254170e+03, 1.22422237e+03,\n",
       "       1.24601750e+03, 1.24859724e+03, 1.24939153e+03, 1.25667326e+03,\n",
       "       1.25744904e+03, 1.27577061e+03, 1.28105331e+03, 1.28845059e+03,\n",
       "       1.29630746e+03, 1.29905129e+03, 1.30474751e+03, 1.34592710e+03,\n",
       "       1.35412775e+03, 1.35876655e+03, 1.36609087e+03, 1.37097003e+03,\n",
       "       1.42334496e+03, 1.43728829e+03, 1.43751022e+03, 1.46916191e+03,\n",
       "       1.47037572e+03, 1.48604102e+03, 1.50400312e+03, 1.51261594e+03,\n",
       "       1.52017059e+03, 1.57219200e+03, 1.60649101e+03, 1.61741257e+03,\n",
       "       1.64699970e+03, 1.65723628e+03, 1.66289443e+03, 1.67715116e+03,\n",
       "       1.73158727e+03, 1.74187219e+03, 1.74799528e+03, 1.80544921e+03,\n",
       "       1.84162871e+03, 1.85150923e+03, 1.91810600e+03, 1.94622207e+03,\n",
       "       2.10014650e+03, 2.12412723e+03, 2.16824436e+03, 2.16968038e+03,\n",
       "       2.20440741e+03, 2.23995373e+03, 2.25491976e+03, 2.40876297e+03,\n",
       "       2.41115144e+03, 2.47721417e+03, 2.48207379e+03, 2.49847246e+03,\n",
       "       2.53981871e+03, 2.58007306e+03, 2.66991939e+03, 2.68827043e+03,\n",
       "       2.84550623e+03, 2.87501040e+03, 2.91976164e+03, 2.96419800e+03,\n",
       "       3.04759621e+03, 3.12394730e+03, 3.27952607e+03, 3.37387813e+03,\n",
       "       3.41288522e+03, 3.42326653e+03, 3.47183030e+03, 3.48325098e+03,\n",
       "       3.53220434e+03, 3.53281623e+03, 3.72492964e+03, 3.72878929e+03,\n",
       "       3.75944572e+03, 3.87710409e+03, 4.05461255e+03, 4.13207185e+03,\n",
       "       4.15349030e+03, 4.50761571e+03, 4.61428873e+03, 4.63965662e+03,\n",
       "       4.88647346e+03, 4.93592198e+03, 4.99840452e+03, 5.02205033e+03,\n",
       "       5.13160972e+03, 5.39295983e+03, 5.50973235e+03, 5.75732567e+03,\n",
       "       5.88426139e+03, 5.95094591e+03, 6.23130474e+03, 6.30850673e+03,\n",
       "       7.77240377e+03, 8.07126835e+03, 8.64520068e+03, 9.25142652e+03,\n",
       "       9.27758086e+03, 9.39703177e+03, 9.55376850e+03, 1.00698241e+04,\n",
       "       1.10755739e+04, 1.11160408e+04, 1.16790458e+04, 1.20531522e+04,\n",
       "       1.25133004e+04, 1.33354593e+04, 1.37314096e+04, 1.44352262e+04,\n",
       "       1.44902879e+04, 1.53130897e+04, 1.54959471e+04, 1.59719362e+04,\n",
       "       1.59850738e+04, 1.66260155e+04, 1.87209069e+04, 1.90131516e+04,\n",
       "       1.93858482e+04, 2.04292041e+04, 2.14191789e+04, 2.27019259e+04,\n",
       "       2.41255864e+04, 2.59202408e+04, 2.68525847e+04, 2.83650642e+04,\n",
       "       3.10837102e+04, 3.23922486e+04, 3.57626945e+04, 3.57899303e+04,\n",
       "       3.70643708e+04, 3.95736791e+04, 4.13344144e+04, 4.15800996e+04,\n",
       "       4.27033821e+04, 4.31137580e+04, 4.34052559e+04, 4.56292980e+04,\n",
       "       4.70826323e+04, 4.85076208e+04, 5.08840835e+04, 5.40546095e+04,\n",
       "       5.82892298e+04, 5.93650624e+04, 5.96402958e+04, 6.21257123e+04,\n",
       "       6.71091641e+04, 7.04548926e+04, 7.20665543e+04, 7.29556948e+04,\n",
       "       7.30098557e+04, 7.37348365e+04, 7.74093205e+04, 8.73584354e+04,\n",
       "       8.82137449e+04, 9.20069623e+04, 9.26084801e+04, 9.43454403e+04,\n",
       "       9.59003191e+04, 9.67165937e+04, 9.73257416e+04, 1.01842428e+05,\n",
       "       1.16279261e+05, 1.16857066e+05, 1.17578370e+05, 1.28850602e+05,\n",
       "       1.33119894e+05, 1.34054468e+05, 1.34197461e+05, 1.42260436e+05,\n",
       "       1.44931801e+05, 1.45322806e+05, 1.53007795e+05, 1.55439951e+05,\n",
       "       1.59371102e+05, 1.59672046e+05, 1.67848711e+05, 1.74898973e+05,\n",
       "       1.77188260e+05, 1.79005968e+05, 1.79517064e+05, 1.80450565e+05,\n",
       "       1.81318267e+05, 1.81546447e+05, 1.87442035e+05, 1.99113693e+05,\n",
       "       2.02804277e+05, 2.23673443e+05, 2.34166074e+05, 2.68694487e+05,\n",
       "       2.96267477e+05, 3.01529041e+05, 4.38758953e+05, 4.65460930e+05,\n",
       "       5.35197893e+05, 9.73911397e+05, 1.12524127e+06, 1.46813028e+06,\n",
       "       8.85325683e+06, 2.17949008e+07, 9.23762367e+07])"
      ]
     },
     "execution_count": 50,
     "metadata": {},
     "output_type": "execute_result"
    }
   ],
   "source": [
    "ccp_alphas"
   ]
  },
  {
   "cell_type": "code",
   "execution_count": 51,
   "metadata": {},
   "outputs": [
    {
     "data": {
      "text/plain": [
       "array([-1.91204332e-08,  8.40560501e-06,  1.68303369e-05,  2.52550791e-05,\n",
       "        3.64714300e-05,  6.51852620e-05,  9.88841711e-05,  1.67129435e-04,\n",
       "        2.50928041e-04,  3.38864234e-04,  4.73659847e-04,  6.08455573e-04,\n",
       "        7.48485484e-04,  8.88515402e-04,  1.04484641e-03,  1.23033993e-03,\n",
       "        1.41704649e-03,  1.71260982e-03,  2.12542138e-03,  2.54735558e-03,\n",
       "        2.97851211e-03,  3.40966864e-03,  4.02387602e-03,  4.64926651e-03,\n",
       "        5.35519872e-03,  6.14662444e-03,  7.01521866e-03,  7.95086173e-03,\n",
       "        8.99896738e-03,  1.05431349e-02,  1.21762854e-02,  1.38457271e-02,\n",
       "        1.55518587e-02,  1.72579903e-02,  1.90785453e-02,  2.10328823e-02,\n",
       "        2.30070100e-02,  2.51845275e-02,  2.74674786e-02,  2.99049828e-02,\n",
       "        3.24286617e-02,  3.52051323e-02,  3.81974055e-02,  4.23898282e-02,\n",
       "        4.65822509e-02,  5.11892300e-02,  5.61670964e-02,  6.11765181e-02,\n",
       "        6.61859398e-02,  7.23275650e-02,  7.91806590e-02,  8.62283160e-02,\n",
       "        9.36209548e-02,  1.01438303e-01,  1.09255651e-01,  1.17075458e-01,\n",
       "        1.25414491e-01,  1.33753524e-01,  1.42631091e-01,  1.51550782e-01,\n",
       "        1.60470473e-01,  1.69594451e-01,  1.78984082e-01,  1.88460453e-01,\n",
       "        1.97936824e-01,  2.07544052e-01,  2.18697043e-01,  2.29991958e-01,\n",
       "        2.42554471e-01,  2.55724760e-01,  2.68946345e-01,  2.82425907e-01,\n",
       "        2.96186292e-01,  3.11541477e-01,  3.27696279e-01,  3.45226139e-01,\n",
       "        3.63654056e-01,  3.83176114e-01,  4.03213801e-01,  4.23568786e-01,\n",
       "        4.44955875e-01,  4.67534589e-01,  4.90113303e-01,  5.17380850e-01,\n",
       "        5.46554579e-01,  5.76805875e-01,  6.07090023e-01,  6.38596752e-01,\n",
       "        6.70341717e-01,  7.02646054e-01,  7.35352934e-01,  7.79443163e-01,\n",
       "        8.27907570e-01,  8.83602934e-01,  9.40676712e-01,  9.97750491e-01,\n",
       "        1.05939276e+00,  1.12327233e+00,  1.19104680e+00,  1.26245473e+00,\n",
       "        1.33411978e+00,  1.41181473e+00,  1.49310730e+00,  1.57554978e+00,\n",
       "        1.65966747e+00,  1.75038537e+00,  1.85161294e+00,  1.95605044e+00,\n",
       "        2.07451006e+00,  2.19335034e+00,  2.31439130e+00,  2.46462540e+00,\n",
       "        2.61834105e+00,  2.77258238e+00,  2.92699913e+00,  3.09742789e+00,\n",
       "        3.27947779e+00,  3.46690157e+00,  3.66431433e+00,  3.86431478e+00,\n",
       "        4.07258676e+00,  4.28877900e+00,  4.51071819e+00,  4.75024281e+00,\n",
       "        4.99246820e+00,  5.26683091e+00,  5.57566047e+00,  5.88498655e+00,\n",
       "        6.21706835e+00,  6.55743570e+00,  6.95471033e+00,  7.35763401e+00,\n",
       "        7.84414328e+00,  8.36745335e+00,  8.89562010e+00,  9.52775973e+00,\n",
       "        1.01683659e+01,  1.08317709e+01,  1.15691446e+01,  1.23410402e+01,\n",
       "        1.32145494e+01,  1.41078400e+01,  1.51242581e+01,  1.61508505e+01,\n",
       "        1.73492258e+01,  1.88303239e+01,  2.04182967e+01,  2.22927446e+01,\n",
       "        2.43499617e+01,  2.64561432e+01,  2.87026222e+01,  3.10595203e+01,\n",
       "        3.35113251e+01,  3.61034747e+01,  3.89974728e+01,  4.19178973e+01,\n",
       "        4.48536040e+01,  4.80217388e+01,  5.13581676e+01,  5.47453585e+01,\n",
       "        5.82989102e+01,  6.19559005e+01,  6.58611947e+01,  7.00256812e+01,\n",
       "        7.42321915e+01,  7.84662222e+01,  8.27287850e+01,  8.70079587e+01,\n",
       "        9.13669418e+01,  9.57613028e+01,  1.00171713e+02,  1.04606540e+02,\n",
       "        1.09082840e+02,  1.13598908e+02,  1.18123521e+02,  1.22722332e+02,\n",
       "        1.27370305e+02,  1.32025983e+02,  1.36724152e+02,  1.41455287e+02,\n",
       "        1.46193917e+02,  1.51124137e+02,  1.56112343e+02,  1.61156385e+02,\n",
       "        1.66346894e+02,  1.71639637e+02,  1.77029388e+02,  1.82707999e+02,\n",
       "        1.88462935e+02,  1.94369144e+02,  2.00382418e+02,  2.06468544e+02,\n",
       "        2.12654965e+02,  2.18918259e+02,  2.25283549e+02,  2.31793977e+02,\n",
       "        2.38530798e+02,  2.45283628e+02,  2.52061075e+02,  2.58933008e+02,\n",
       "        2.66275106e+02,  2.73709588e+02,  2.81491245e+02,  2.89485601e+02,\n",
       "        2.97553018e+02,  3.05973856e+02,  3.14453106e+02,  3.23172459e+02,\n",
       "        3.32543388e+02,  3.42159393e+02,  3.52302072e+02,  3.62739804e+02,\n",
       "        3.73220860e+02,  3.83997441e+02,  3.94805068e+02,  4.05786373e+02,\n",
       "        4.16906255e+02,  4.28175010e+02,  4.39472264e+02,  4.62448591e+02,\n",
       "        4.74010028e+02,  4.85679520e+02,  4.97678596e+02,  5.10287834e+02,\n",
       "        5.23337760e+02,  5.36416819e+02,  5.62855682e+02,  5.76085038e+02,\n",
       "        5.89599307e+02,  6.03392425e+02,  6.17833123e+02,  6.32892126e+02,\n",
       "        6.48209466e+02,  6.63535769e+02,  6.79036164e+02,  6.94692659e+02,\n",
       "        7.10368129e+02,  7.26095379e+02,  7.41900751e+02,  7.57939434e+02,\n",
       "        7.74008532e+02,  7.90153950e+02,  8.06386354e+02,  8.22633154e+02,\n",
       "        8.38987464e+02,  8.55526836e+02,  8.72259590e+02,  8.89101266e+02,\n",
       "        9.06029792e+02,  9.23011888e+02,  9.40189604e+02,  9.57490356e+02,\n",
       "        9.74934025e+02,  9.92401670e+02,  1.01005053e+03,  1.04561136e+03,\n",
       "        1.06394032e+03,  1.08233250e+03,  1.10090900e+03,  1.11971910e+03,\n",
       "        1.13873428e+03,  1.15842004e+03,  1.17825666e+03,  1.19832867e+03,\n",
       "        1.21847075e+03,  1.23889640e+03,  1.25965844e+03,  1.28042251e+03,\n",
       "        1.30122604e+03,  1.32210014e+03,  1.34329783e+03,  1.36460256e+03,\n",
       "        1.38603321e+03,  1.40788137e+03,  1.42976086e+03,  1.45178261e+03,\n",
       "        1.47393658e+03,  1.49614943e+03,  1.51875470e+03,  1.54158681e+03,\n",
       "        1.56446823e+03,  1.58759098e+03,  1.61135151e+03,  1.63528897e+03,\n",
       "        1.65973789e+03,  1.68474192e+03,  1.71021931e+03,  1.73571094e+03,\n",
       "        1.76126277e+03,  1.78687331e+03,  1.81260885e+03,  1.83846309e+03,\n",
       "        1.86438871e+03,  1.89057360e+03,  1.91699726e+03,  1.94349252e+03,\n",
       "        1.97001727e+03,  1.99671470e+03,  2.02366709e+03,  2.05068628e+03,\n",
       "        2.10554180e+03,  2.13369858e+03,  2.16186220e+03,  2.19041297e+03,\n",
       "        2.21899060e+03,  2.27711441e+03,  2.30634697e+03,  2.33617208e+03,\n",
       "        2.36651336e+03,  2.39725080e+03,  2.42828002e+03,  2.45941494e+03,\n",
       "        2.49055153e+03,  2.52299985e+03,  2.55552451e+03,  2.58834782e+03,\n",
       "        2.62207784e+03,  2.65609374e+03,  2.69043596e+03,  2.72614811e+03,\n",
       "        2.76192598e+03,  2.79842056e+03,  2.83503122e+03,  2.87229322e+03,\n",
       "        2.90994328e+03,  2.94805475e+03,  2.98671821e+03,  3.02552230e+03,\n",
       "        3.06435978e+03,  3.10361449e+03,  3.14334477e+03,  3.18447192e+03,\n",
       "        3.22571974e+03,  3.26758616e+03,  3.30979553e+03,  3.35279930e+03,\n",
       "        3.39644382e+03,  3.44074570e+03,  3.48539632e+03,  3.53029536e+03,\n",
       "        3.57574717e+03,  3.62176243e+03,  3.66788376e+03,  3.71412634e+03,\n",
       "        3.76144719e+03,  3.80892159e+03,  3.85651210e+03,  3.90439952e+03,\n",
       "        3.95304910e+03,  4.00193179e+03,  4.05114672e+03,  4.10242293e+03,\n",
       "        4.15398014e+03,  4.20572004e+03,  4.25787675e+03,  4.31099692e+03,\n",
       "        4.36455937e+03,  4.41974511e+03,  4.47547459e+03,  4.53156267e+03,\n",
       "        4.58809258e+03,  4.64499643e+03,  4.70248803e+03,  4.76145848e+03,\n",
       "        4.82372806e+03,  4.88655063e+03,  4.94938479e+03,  5.01315068e+03,\n",
       "        5.07868258e+03,  5.14482962e+03,  5.21160415e+03,  5.27893875e+03,\n",
       "        5.34835445e+03,  5.41876356e+03,  5.49046368e+03,  5.56260315e+03,\n",
       "        5.63522509e+03,  5.70806030e+03,  5.78190891e+03,  5.85584580e+03,\n",
       "        5.93024033e+03,  6.00475815e+03,  6.07934583e+03,  6.15406810e+03,\n",
       "        6.22935112e+03,  6.30560269e+03,  6.45970522e+03,  6.53844226e+03,\n",
       "        6.61723253e+03,  6.69619995e+03,  6.77523237e+03,  6.85609759e+03,\n",
       "        7.02100235e+03,  7.10357100e+03,  7.18662047e+03,  7.26998389e+03,\n",
       "        7.35382075e+03,  7.43822953e+03,  7.52408447e+03,  7.61059438e+03,\n",
       "        7.69915811e+03,  7.78803495e+03,  7.96823453e+03,  8.05866375e+03,\n",
       "        8.14948783e+03,  8.24091258e+03,  8.42446118e+03,  8.51779871e+03,\n",
       "        8.61124089e+03,  8.70607619e+03,  8.80214851e+03,  8.89832875e+03,\n",
       "        8.99582892e+03,  9.09370069e+03,  9.29031553e+03,  9.38907220e+03,\n",
       "        9.48809799e+03,  9.58864177e+03,  9.68995368e+03,  9.79365397e+03,\n",
       "        9.89890646e+03,  1.00057821e+04,  1.01135310e+04,  1.02215772e+04,\n",
       "        1.04402218e+04,  1.05496165e+04,  1.06605249e+04,  1.07716214e+04,\n",
       "        1.08828826e+04,  1.09943795e+04,  1.12208685e+04,  1.13345404e+04,\n",
       "        1.14489050e+04,  1.15636874e+04,  1.16792445e+04,  1.17951215e+04,\n",
       "        1.19135116e+04,  1.20324173e+04,  1.21513620e+04,  1.23930788e+04,\n",
       "        1.25167006e+04,  1.26418113e+04,  1.27708522e+04,  1.29040793e+04,\n",
       "        1.30390706e+04,  1.31751454e+04,  1.33127009e+04,  1.34519549e+04,\n",
       "        1.35913610e+04,  1.38702497e+04,  1.40107609e+04,  1.41520925e+04,\n",
       "        1.44405883e+04,  1.45873864e+04,  1.47352790e+04,  1.48851795e+04,\n",
       "        1.50356551e+04,  1.51872418e+04,  1.53393314e+04,  1.54956564e+04,\n",
       "        1.56529286e+04,  1.58105360e+04,  1.59684112e+04,  1.61275239e+04,\n",
       "        1.62888525e+04,  1.64502793e+04,  1.66120119e+04,  1.67740551e+04,\n",
       "        1.69366633e+04,  1.71002790e+04,  1.72647564e+04,  1.74300251e+04,\n",
       "        1.75962254e+04,  1.77636555e+04,  1.79346705e+04,  1.81065567e+04,\n",
       "        1.82792694e+04,  1.84533228e+04,  1.86274266e+04,  1.88015739e+04,\n",
       "        1.89761117e+04,  1.91513638e+04,  1.93269641e+04,  1.95046780e+04,\n",
       "        1.98644104e+04,  2.00452044e+04,  2.02266640e+04,  2.04109231e+04,\n",
       "        2.05967781e+04,  2.07839711e+04,  2.09812308e+04,  2.11792788e+04,\n",
       "        2.15814955e+04,  2.17828059e+04,  2.19860242e+04,  2.21946189e+04,\n",
       "        2.24035296e+04,  2.26161159e+04,  2.30424354e+04,  2.32571825e+04,\n",
       "        2.34729832e+04,  2.39078181e+04,  2.43478518e+04,  2.45687496e+04,\n",
       "        2.47902763e+04,  2.50119099e+04,  2.52349163e+04,  2.54600143e+04,\n",
       "        2.56896085e+04,  2.61544108e+04,  2.63879532e+04,  2.66306978e+04,\n",
       "        2.68736002e+04,  2.71180209e+04,  2.73645767e+04,  2.76124887e+04,\n",
       "        2.78658995e+04,  2.81217171e+04,  2.83816559e+04,  2.86417266e+04,\n",
       "        2.89021542e+04,  2.91646240e+04,  2.94281198e+04,  2.96950195e+04,\n",
       "        2.99629266e+04,  3.05019710e+04,  3.07725920e+04,  3.10440821e+04,\n",
       "        3.13157383e+04,  3.15918565e+04,  3.18731352e+04,  3.21545094e+04,\n",
       "        3.24384529e+04,  3.27243091e+04,  3.30108376e+04,  3.32986147e+04,\n",
       "        3.35914743e+04,  3.38859071e+04,  3.41922011e+04,  3.45031822e+04,\n",
       "        3.48174215e+04,  3.51320752e+04,  3.54469150e+04,  3.57654279e+04,\n",
       "        3.60839856e+04,  3.64071136e+04,  3.67314364e+04,  3.70597610e+04,\n",
       "        3.73888194e+04,  3.77198239e+04,  3.80603448e+04,  3.84056916e+04,\n",
       "        3.87526548e+04,  3.91033028e+04,  3.94542135e+04,  3.98101184e+04,\n",
       "        4.01668257e+04,  4.05317497e+04,  4.08982076e+04,  4.12666868e+04,\n",
       "        4.16365850e+04,  4.20082353e+04,  4.23870240e+04,  4.27700503e+04,\n",
       "        4.31540944e+04,  4.35406305e+04,  4.39385837e+04,  4.43399847e+04,\n",
       "        4.47697019e+04,  4.56377857e+04,  4.60829061e+04,  4.65313903e+04,\n",
       "        4.69807536e+04,  4.74305305e+04,  4.78811812e+04,  4.83384758e+04,\n",
       "        4.88047078e+04,  4.92773461e+04,  4.97507983e+04,  5.02244804e+04,\n",
       "        5.07099889e+04,  5.12006649e+04,  5.16916520e+04,  5.21861017e+04,\n",
       "        5.26946602e+04,  5.32033161e+04,  5.37142554e+04,  5.42258721e+04,\n",
       "        5.47437201e+04,  5.57917575e+04,  5.63178979e+04,  5.68445744e+04,\n",
       "        5.73795788e+04,  5.79170607e+04,  5.84598153e+04,  5.90087706e+04,\n",
       "        5.95602540e+04,  6.01353623e+04,  6.07142786e+04,  6.12979941e+04,\n",
       "        6.18989649e+04,  6.25051640e+04,  6.31153914e+04,  6.37365724e+04,\n",
       "        6.43625081e+04,  6.50003397e+04,  6.56389118e+04,  6.62821463e+04,\n",
       "        6.69280777e+04,  6.75746040e+04,  6.82211313e+04,  6.88682179e+04,\n",
       "        6.95210603e+04,  7.01742953e+04,  7.08309960e+04,  7.14992560e+04,\n",
       "        7.21748958e+04,  7.28517271e+04,  7.35345507e+04,  7.42174903e+04,\n",
       "        7.55919818e+04,  7.62841902e+04,  7.70306269e+04,  7.77797870e+04,\n",
       "        7.85390270e+04,  7.92987945e+04,  8.00622694e+04,  8.08273284e+04,\n",
       "        8.16183569e+04,  8.24130721e+04,  8.32132896e+04,  8.40176156e+04,\n",
       "        8.48226081e+04,  8.56303349e+04,  8.64419180e+04,  8.72577119e+04,\n",
       "        8.80785153e+04,  8.89152794e+04,  8.97611362e+04,  9.06283807e+04,\n",
       "        9.23736719e+04,  9.32619119e+04,  9.41516240e+04,  9.50493597e+04,\n",
       "        9.59522248e+04,  9.68804295e+04,  9.78167790e+04,  9.87630103e+04,\n",
       "        9.97124529e+04,  1.00671156e+05,  1.01632839e+05,  1.02611096e+05,\n",
       "        1.03599584e+05,  1.04588862e+05,  1.05581626e+05,  1.06576756e+05,\n",
       "        1.07588001e+05,  1.08622772e+05,  1.09664511e+05,  1.10718740e+05,\n",
       "        1.11797495e+05,  1.12900583e+05,  1.14006654e+05,  1.15115610e+05,\n",
       "        1.16236937e+05,  1.17401725e+05,  1.18572775e+05,  1.19744682e+05,\n",
       "        1.20934726e+05,  1.22131348e+05,  1.23353890e+05,  1.24578112e+05,\n",
       "        1.25824129e+05,  1.27072727e+05,  1.28322118e+05,  1.29578792e+05,\n",
       "        1.30836241e+05,  1.32112011e+05,  1.33393064e+05,  1.34681515e+05,\n",
       "        1.35977823e+05,  1.37276874e+05,  1.38581621e+05,  1.39927548e+05,\n",
       "        1.41281676e+05,  1.42640443e+05,  1.44006534e+05,  1.45377504e+05,\n",
       "        1.46800849e+05,  1.48238137e+05,  1.49675647e+05,  1.51144809e+05,\n",
       "        1.52615185e+05,  1.54101226e+05,  1.55605229e+05,  1.58630461e+05,\n",
       "        1.60150631e+05,  1.61722823e+05,  1.63329314e+05,  1.64946727e+05,\n",
       "        1.66593727e+05,  1.68250963e+05,  1.69913857e+05,  1.71591008e+05,\n",
       "        1.73322596e+05,  1.75064468e+05,  1.76812463e+05,  1.78617912e+05,\n",
       "        1.80459541e+05,  1.82311050e+05,  1.84229156e+05,  1.86175378e+05,\n",
       "        1.88275525e+05,  1.90399652e+05,  1.92567897e+05,  1.94737577e+05,\n",
       "        1.96941984e+05,  1.99181938e+05,  2.03691778e+05,  2.06100541e+05,\n",
       "        2.08511692e+05,  2.10988906e+05,  2.13470980e+05,  2.15969452e+05,\n",
       "        2.18509271e+05,  2.21089344e+05,  2.23759264e+05,  2.26447534e+05,\n",
       "        2.29293040e+05,  2.32168051e+05,  2.35087812e+05,  2.38052010e+05,\n",
       "        2.41099606e+05,  2.44223554e+05,  2.50782606e+05,  2.54156484e+05,\n",
       "        2.57569369e+05,  2.60992636e+05,  2.64464466e+05,  2.67947717e+05,\n",
       "        2.71479921e+05,  2.75012738e+05,  2.78737667e+05,  2.82466457e+05,\n",
       "        2.86225902e+05,  2.93980110e+05,  2.98034723e+05,  3.02166795e+05,\n",
       "        3.06320285e+05,  3.10827901e+05,  3.15442190e+05,  3.20081846e+05,\n",
       "        3.24968320e+05,  3.29904242e+05,  3.34902646e+05,  3.39924697e+05,\n",
       "        3.45056306e+05,  3.50449266e+05,  3.55958998e+05,  3.61716324e+05,\n",
       "        3.67600585e+05,  3.73551531e+05,  3.79782836e+05,  3.86091343e+05,\n",
       "        3.93863747e+05,  4.01935015e+05,  4.19225416e+05,  4.28476843e+05,\n",
       "        4.37754424e+05,  4.47151455e+05,  4.56705224e+05,  4.66775048e+05,\n",
       "        4.77850622e+05,  4.88966663e+05,  5.00645709e+05,  5.24752013e+05,\n",
       "        5.37265313e+05,  5.50600773e+05,  5.78063592e+05,  5.92498818e+05,\n",
       "        6.06989106e+05,  6.22302196e+05,  6.37798143e+05,  6.69742015e+05,\n",
       "        6.85727089e+05,  7.02353104e+05,  7.21074011e+05,  7.40087163e+05,\n",
       "        7.59473011e+05,  7.79902215e+05,  8.01321394e+05,  8.24023320e+05,\n",
       "        9.44651252e+05,  1.02241197e+06,  1.04926456e+06,  1.07762962e+06,\n",
       "        1.10871333e+06,  1.14110558e+06,  1.21263097e+06,  1.32000076e+06,\n",
       "        1.35706513e+06,  1.47578617e+06,  1.68245824e+06,  1.72403834e+06,\n",
       "        1.76674172e+06,  1.85296924e+06,  1.89637450e+06,  1.94200379e+06,\n",
       "        2.03616906e+06,  2.18169192e+06,  2.23257600e+06,  2.28663061e+06,\n",
       "        2.51978753e+06,  2.63851766e+06,  2.75779825e+06,  2.81992396e+06,\n",
       "        2.88703313e+06,  3.16885270e+06,  3.38505236e+06,  3.53096375e+06,\n",
       "        3.60397360e+06,  3.75144328e+06,  3.90626192e+06,  4.08097879e+06,\n",
       "        4.16919253e+06,  4.44521342e+06,  4.53782190e+06,  4.72651278e+06,\n",
       "        5.11011406e+06,  5.69041362e+06,  6.17704233e+06,  6.38072718e+06,\n",
       "        6.61328571e+06,  6.73014277e+06,  7.55319136e+06,  7.81089256e+06,\n",
       "        8.21025225e+06,  8.34430671e+06,  8.61270164e+06,  9.75078512e+06,\n",
       "        1.01855805e+07,  1.03309033e+07,  1.07899267e+07,  1.14116865e+07,\n",
       "        1.18897998e+07,  1.22091439e+07,  1.23769926e+07,  1.30765885e+07,\n",
       "        1.32537768e+07,  1.37907947e+07,  1.39703118e+07,  1.46921140e+07,\n",
       "        1.48734323e+07,  1.54180716e+07,  1.57929557e+07,  1.59920694e+07,\n",
       "        1.68032865e+07,  1.76979803e+07,  1.84004785e+07,  1.86691730e+07,\n",
       "        1.89654404e+07,  1.98700276e+07,  2.03087865e+07,  2.07742475e+07,\n",
       "        2.13094453e+07,  2.22833567e+07,  2.34085980e+07,  2.48767283e+07,\n",
       "        3.37299851e+07,  5.55248860e+07,  1.47901123e+08])"
      ]
     },
     "execution_count": 51,
     "metadata": {},
     "output_type": "execute_result"
    }
   ],
   "source": [
    "impurities"
   ]
  },
  {
   "cell_type": "code",
   "execution_count": 52,
   "metadata": {},
   "outputs": [],
   "source": [
    "regs = []\n",
    "for ccp_alpha in ccp_alphas:\n",
    "    reg = DecisionTreeRegressor(random_state=0, ccp_alpha=ccp_alpha)\n",
    "    reg.fit(x_train, y_train)\n",
    "    regs.append(reg)"
   ]
  },
  {
   "cell_type": "code",
   "execution_count": 53,
   "metadata": {},
   "outputs": [
    {
     "data": {
      "text/plain": [
       "<Figure size 2160x576 with 0 Axes>"
      ]
     },
     "metadata": {},
     "output_type": "display_data"
    },
    {
     "data": {
      "image/png": "[encoded data removed]",
      "text/plain": [
       "<Figure size 432x288 with 1 Axes>"
      ]
     },
     "metadata": {
      "needs_background": "light"
     },
     "output_type": "display_data"
    }
   ],
   "source": [
    "plt.figure(figsize=(30,8))\n",
    "train_scores = [reg.score(x_train, y_train) for reg in regs]\n",
    "test_scores = [reg.score(x_test, y_test) for reg in regs]\n",
    "\n",
    "fig, ax = plt.subplots()\n",
    "ax.set_xlabel(\"alpha\")\n",
    "ax.set_ylabel(\"accuracy\")\n",
    "ax.set_title(\"Accuracy vs alpha for training and testing sets\")\n",
    "ax.plot(ccp_alphas, train_scores, marker='o', label=\"train\",\n",
    "        drawstyle=\"steps-post\")\n",
    "ax.plot(ccp_alphas, test_scores, marker='o', label=\"test\",\n",
    "        drawstyle=\"steps-post\")\n",
    "ax.legend()\n",
    "plt.show()"
   ]
  },
  {
   "cell_type": "code",
   "execution_count": 54,
   "metadata": {},
   "outputs": [],
   "source": [
    "#lets try with ccp_alpha as 0.85 * (10**7)"
   ]
  },
  {
   "cell_type": "code",
   "execution_count": 55,
   "metadata": {},
   "outputs": [
    {
     "data": {
      "text/plain": [
       "DecisionTreeRegressor(ccp_alpha=8500000.0)"
      ]
     },
     "execution_count": 55,
     "metadata": {},
     "output_type": "execute_result"
    }
   ],
   "source": [
    "dtr8 = DecisionTreeRegressor(ccp_alpha=0.85*(10**7))\n",
    "dtr8.fit(x_train, y_train)"
   ]
  },
  {
   "cell_type": "code",
   "execution_count": 56,
   "metadata": {},
   "outputs": [],
   "source": [
    "y_pred = dtr8.predict(x_test)"
   ]
  },
  {
   "cell_type": "code",
   "execution_count": 57,
   "metadata": {},
   "outputs": [
    {
     "data": {
      "text/plain": [
       "0.8318016263714915"
      ]
     },
     "execution_count": 57,
     "metadata": {},
     "output_type": "execute_result"
    }
   ],
   "source": [
    "dtr8.score(x_train, y_train)"
   ]
  },
  {
   "cell_type": "code",
   "execution_count": 58,
   "metadata": {},
   "outputs": [
    {
     "data": {
      "text/plain": [
       "0.8023697763659341"
      ]
     },
     "execution_count": 58,
     "metadata": {},
     "output_type": "execute_result"
    }
   ],
   "source": [
    "dtr8.score(x_test,y_test)"
   ]
  },
  {
   "cell_type": "code",
   "execution_count": null,
   "metadata": {},
   "outputs": [],
   "source": []
  },
  {
   "cell_type": "markdown",
   "metadata": {},
   "source": [
    "# HyperParameter Tuning using RandomizedSearchCV"
   ]
  },
  {
   "cell_type": "code",
   "execution_count": 59,
   "metadata": {},
   "outputs": [
    {
     "ename": "SyntaxError",
     "evalue": "invalid syntax (<ipython-input-59-ed51a01ceb38>, line 1)",
     "output_type": "error",
     "traceback": [
      "\u001b[1;36m  File \u001b[1;32m\"<ipython-input-59-ed51a01ceb38>\"\u001b[1;36m, line \u001b[1;32m1\u001b[0m\n\u001b[1;33m    DecisionTreeRegressor(criterion=)\u001b[0m\n\u001b[1;37m                                    ^\u001b[0m\n\u001b[1;31mSyntaxError\u001b[0m\u001b[1;31m:\u001b[0m invalid syntax\n"
     ]
    }
   ],
   "source": [
    "DecisionTreeRegressor(criterion=)"
   ]
  },
  {
   "cell_type": "code",
   "execution_count": null,
   "metadata": {},
   "outputs": [],
   "source": [
    "params = {\n",
    "    'criterion' : [\"mse\", \"friedman_mse\", \"mae\"],\n",
    "    'splitter':['best','random'],\n",
    "    'max_depth':[int(i) for i in range(1,50,1)],\n",
    "    'min_samples_split':[int(i) for i in range(2,50,1)],\n",
    "    'min_samples_leaf':[int(i) for i in range(1,50,1)],\n",
    "    'max_features':['sqrt','log2',None],\n",
    "    'max_leaf_nodes' : [int(i) for i in range(1,100,1)]\n",
    "}"
   ]
  },
  {
   "cell_type": "code",
   "execution_count": null,
   "metadata": {},
   "outputs": [],
   "source": [
    "from sklearn.model_selection import RandomizedSearchCV\n",
    "dtreg = DecisionTreeRegressor()\n",
    "random_cv_dtreg = RandomizedSearchCV(estimator = dtreg , param_distributions=params , n_iter = 100 , cv = 5 , n_jobs = 7,verbose=True)\n",
    "random_cv_dtreg.fit(x_train,y_train)"
   ]
  },
  {
   "cell_type": "code",
   "execution_count": null,
   "metadata": {},
   "outputs": [],
   "source": [
    "best_params = random_cv_dtreg.best_estimator_\n",
    "best_params"
   ]
  },
  {
   "cell_type": "code",
   "execution_count": null,
   "metadata": {},
   "outputs": [],
   "source": [
    "dtr_final = DecisionTreeRegressor(criterion='mae', max_depth=8, max_leaf_nodes=81,\n",
    "                      min_samples_leaf=33, min_samples_split=16)"
   ]
  },
  {
   "cell_type": "code",
   "execution_count": null,
   "metadata": {},
   "outputs": [],
   "source": [
    "dtr_final.fit(x_train, y_train)"
   ]
  },
  {
   "cell_type": "code",
   "execution_count": null,
   "metadata": {},
   "outputs": [],
   "source": [
    "dtr_final.score(x_train, y_train)"
   ]
  },
  {
   "cell_type": "code",
   "execution_count": null,
   "metadata": {},
   "outputs": [],
   "source": [
    "dtr_final.score(x_test, y_test)"
   ]
  },
  {
   "cell_type": "code",
   "execution_count": null,
   "metadata": {},
   "outputs": [],
   "source": []
  },
  {
   "cell_type": "code",
   "execution_count": null,
   "metadata": {},
   "outputs": [],
   "source": []
  },
  {
   "cell_type": "code",
   "execution_count": null,
   "metadata": {},
   "outputs": [],
   "source": []
  },
  {
   "cell_type": "code",
   "execution_count": null,
   "metadata": {},
   "outputs": [],
   "source": []
  },
  {
   "cell_type": "code",
   "execution_count": null,
   "metadata": {},
   "outputs": [],
   "source": []
  }
 ],
 "metadata": {
  "kernelspec": {
   "display_name": "Python 3",
   "language": "python",
   "name": "python3"
  },
  "language_info": {
   "codemirror_mode": {
    "name": "ipython",
    "version": 3
   },
   "file_extension": ".py",
   "mimetype": "text/x-python",
   "name": "python",
   "nbconvert_exporter": "python",
   "pygments_lexer": "ipython3",
   "version": "3.8.5"
  }
 },
 "nbformat": 4,
 "nbformat_minor": 4
}
